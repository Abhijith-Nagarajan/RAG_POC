{
 "cells": [
  {
   "cell_type": "code",
   "execution_count": 1,
   "id": "388bc2b0",
   "metadata": {},
   "outputs": [
    {
     "name": "stderr",
     "output_type": "stream",
     "text": [
      "c:\\Users\\abhij\\miniconda3\\envs\\RAG\\Lib\\site-packages\\tqdm\\auto.py:21: TqdmWarning: IProgress not found. Please update jupyter and ipywidgets. See https://ipywidgets.readthedocs.io/en/stable/user_install.html\n",
      "  from .autonotebook import tqdm as notebook_tqdm\n"
     ]
    }
   ],
   "source": [
    "import pandas as pd\n",
    "import numpy as np\n",
    "from llama_index.core import Document, SimpleDirectoryReader, VectorStoreIndex, StorageContext\n",
    "from llama_index.core.memory import ChatMemoryBuffer\n",
    "from llama_index.core.settings import Settings\n",
    "from llama_index.core.chat_engine import CondenseQuestionChatEngine\n",
    "from llama_index.core.node_parser import SentenceSplitter\n",
    "from llama_index.vector_stores.faiss import FaissVectorStore\n",
    "from llama_index.llms.llama_cpp import LlamaCPP\n",
    "from llama_cpp import Llama\n",
    "from sentence_transformers import SentenceTransformer\n",
    "from llama_index.embeddings.huggingface import HuggingFaceEmbedding    \n",
    "import faiss"
   ]
  },
  {
   "cell_type": "code",
   "execution_count": 2,
   "id": "ddf5079d",
   "metadata": {},
   "outputs": [],
   "source": [
    "df = pd.read_csv(\"./pubmed_abstracts/pubmed_abstracts.csv\")"
   ]
  },
  {
   "cell_type": "code",
   "execution_count": 3,
   "id": "77fb9c26",
   "metadata": {},
   "outputs": [],
   "source": [
    "df = df.dropna(subset=[\"abstract\"])"
   ]
  },
  {
   "cell_type": "code",
   "execution_count": 4,
   "id": "7402ccfc",
   "metadata": {},
   "outputs": [],
   "source": [
    "def dataframe_to_documents(df):\n",
    "    docs = []\n",
    "    for _, row in df.iterrows():\n",
    "        text = row[\"abstract\"]\n",
    "        metadata = {\n",
    "            \"title\": row.get(\"title\", \"\"),\n",
    "            \"year\": row.get(\"year\", \"\"),\n",
    "        }\n",
    "        docs.append(Document(text=text, metadata=metadata))\n",
    "    return docs"
   ]
  },
  {
   "cell_type": "code",
   "execution_count": 5,
   "id": "247ef7df",
   "metadata": {},
   "outputs": [],
   "source": [
    "docs = dataframe_to_documents(df)"
   ]
  },
  {
   "cell_type": "code",
   "execution_count": 6,
   "id": "53606c70",
   "metadata": {},
   "outputs": [],
   "source": [
    "model_directory = r\"E:\\RAG_Models\"\n",
    "model_name = \"phi-2-orange.Q4_K_M.gguf\"\n",
    "\n",
    "model_path = model_directory+\"\\\\\"+model_name"
   ]
  },
  {
   "cell_type": "code",
   "execution_count": 7,
   "id": "e13d3c3d",
   "metadata": {},
   "outputs": [
    {
     "name": "stderr",
     "output_type": "stream",
     "text": [
      "llama_model_loader: loaded meta data with 21 key-value pairs and 325 tensors from E:\\RAG_Models\\phi-2-orange.Q4_K_M.gguf (version GGUF V3 (latest))\n",
      "llama_model_loader: Dumping metadata keys/values. Note: KV overrides do not apply in this output.\n",
      "llama_model_loader: - kv   0:                       general.architecture str              = phi2\n",
      "llama_model_loader: - kv   1:                               general.name str              = Phi2\n",
      "llama_model_loader: - kv   2:                        phi2.context_length u32              = 2048\n",
      "llama_model_loader: - kv   3:                      phi2.embedding_length u32              = 2560\n",
      "llama_model_loader: - kv   4:                   phi2.feed_forward_length u32              = 10240\n",
      "llama_model_loader: - kv   5:                           phi2.block_count u32              = 32\n",
      "llama_model_loader: - kv   6:                  phi2.attention.head_count u32              = 32\n",
      "llama_model_loader: - kv   7:               phi2.attention.head_count_kv u32              = 32\n",
      "llama_model_loader: - kv   8:          phi2.attention.layer_norm_epsilon f32              = 0.000010\n",
      "llama_model_loader: - kv   9:                  phi2.rope.dimension_count u32              = 32\n",
      "llama_model_loader: - kv  10:                          general.file_type u32              = 15\n",
      "llama_model_loader: - kv  11:               tokenizer.ggml.add_bos_token bool             = false\n",
      "llama_model_loader: - kv  12:                       tokenizer.ggml.model str              = gpt2\n",
      "llama_model_loader: - kv  13:                      tokenizer.ggml.tokens arr[str,51200]   = [\"!\", \"\\\"\", \"#\", \"$\", \"%\", \"&\", \"'\", ...\n",
      "llama_model_loader: - kv  14:                  tokenizer.ggml.token_type arr[i32,51200]   = [1, 1, 1, 1, 1, 1, 1, 1, 1, 1, 1, 1, ...\n",
      "llama_model_loader: - kv  15:                      tokenizer.ggml.merges arr[str,50000]   = [\"Ġ t\", \"Ġ a\", \"h e\", \"i n\", \"r e\",...\n",
      "llama_model_loader: - kv  16:                tokenizer.ggml.bos_token_id u32              = 50256\n",
      "llama_model_loader: - kv  17:                tokenizer.ggml.eos_token_id u32              = 50295\n",
      "llama_model_loader: - kv  18:            tokenizer.ggml.unknown_token_id u32              = 50256\n",
      "llama_model_loader: - kv  19:            tokenizer.ggml.padding_token_id u32              = 50256\n",
      "llama_model_loader: - kv  20:               general.quantization_version u32              = 2\n",
      "llama_model_loader: - type  f32:  195 tensors\n",
      "llama_model_loader: - type q4_K:   81 tensors\n",
      "llama_model_loader: - type q5_K:   32 tensors\n",
      "llama_model_loader: - type q6_K:   17 tensors\n",
      "print_info: file format = GGUF V3 (latest)\n",
      "print_info: file type   = Q4_K - Medium\n",
      "print_info: file size   = 1.66 GiB (5.14 BPW) \n",
      "load: missing pre-tokenizer type, using: 'default'\n",
      "load:                                             \n",
      "load: ************************************        \n",
      "load: GENERATION QUALITY WILL BE DEGRADED!        \n",
      "load: CONSIDER REGENERATING THE MODEL             \n",
      "load: ************************************        \n",
      "load:                                             \n",
      "init_tokenizer: initializing tokenizer for type 2\n",
      "load: special tokens cache size = 944\n",
      "load: token to piece cache size = 0.3151 MB\n",
      "print_info: arch             = phi2\n",
      "print_info: vocab_only       = 0\n",
      "print_info: n_ctx_train      = 2048\n",
      "print_info: n_embd           = 2560\n",
      "print_info: n_layer          = 32\n",
      "print_info: n_head           = 32\n",
      "print_info: n_head_kv        = 32\n",
      "print_info: n_rot            = 32\n",
      "print_info: n_swa            = 0\n",
      "print_info: n_swa_pattern    = 1\n",
      "print_info: n_embd_head_k    = 80\n",
      "print_info: n_embd_head_v    = 80\n",
      "print_info: n_gqa            = 1\n",
      "print_info: n_embd_k_gqa     = 2560\n",
      "print_info: n_embd_v_gqa     = 2560\n",
      "print_info: f_norm_eps       = 1.0e-05\n",
      "print_info: f_norm_rms_eps   = 0.0e+00\n",
      "print_info: f_clamp_kqv      = 0.0e+00\n",
      "print_info: f_max_alibi_bias = 0.0e+00\n",
      "print_info: f_logit_scale    = 0.0e+00\n",
      "print_info: f_attn_scale     = 0.0e+00\n",
      "print_info: n_ff             = 10240\n",
      "print_info: n_expert         = 0\n",
      "print_info: n_expert_used    = 0\n",
      "print_info: causal attn      = 1\n",
      "print_info: pooling type     = 0\n",
      "print_info: rope type        = 2\n",
      "print_info: rope scaling     = linear\n",
      "print_info: freq_base_train  = 10000.0\n",
      "print_info: freq_scale_train = 1\n",
      "print_info: n_ctx_orig_yarn  = 2048\n",
      "print_info: rope_finetuned   = unknown\n",
      "print_info: ssm_d_conv       = 0\n",
      "print_info: ssm_d_inner      = 0\n",
      "print_info: ssm_d_state      = 0\n",
      "print_info: ssm_dt_rank      = 0\n",
      "print_info: ssm_dt_b_c_rms   = 0\n",
      "print_info: model type       = 3B\n",
      "print_info: model params     = 2.78 B\n",
      "print_info: general.name     = Phi2\n",
      "print_info: vocab type       = BPE\n",
      "print_info: n_vocab          = 51200\n",
      "print_info: n_merges         = 50000\n",
      "print_info: BOS token        = 50256 '<|endoftext|>'\n",
      "print_info: EOS token        = 50295 '<|im_end|>'\n",
      "print_info: EOT token        = 50295 '<|im_end|>'\n",
      "print_info: UNK token        = 50256 '<|endoftext|>'\n",
      "print_info: PAD token        = 50256 '<|endoftext|>'\n",
      "print_info: LF token         = 198 'Ċ'\n",
      "print_info: EOG token        = 50256 '<|endoftext|>'\n",
      "print_info: EOG token        = 50295 '<|im_end|>'\n",
      "print_info: max token length = 256\n",
      "load_tensors: loading model tensors, this can take a while... (mmap = true)\n",
      "load_tensors: layer   0 assigned to device CPU, is_swa = 0\n",
      "load_tensors: layer   1 assigned to device CPU, is_swa = 0\n",
      "load_tensors: layer   2 assigned to device CPU, is_swa = 0\n",
      "load_tensors: layer   3 assigned to device CPU, is_swa = 0\n",
      "load_tensors: layer   4 assigned to device CPU, is_swa = 0\n",
      "load_tensors: layer   5 assigned to device CPU, is_swa = 0\n",
      "load_tensors: layer   6 assigned to device CPU, is_swa = 0\n",
      "load_tensors: layer   7 assigned to device CPU, is_swa = 0\n",
      "load_tensors: layer   8 assigned to device CPU, is_swa = 0\n",
      "load_tensors: layer   9 assigned to device CPU, is_swa = 0\n",
      "load_tensors: layer  10 assigned to device CPU, is_swa = 0\n",
      "load_tensors: layer  11 assigned to device CPU, is_swa = 0\n",
      "load_tensors: layer  12 assigned to device CPU, is_swa = 0\n",
      "load_tensors: layer  13 assigned to device CPU, is_swa = 0\n",
      "load_tensors: layer  14 assigned to device CPU, is_swa = 0\n",
      "load_tensors: layer  15 assigned to device CPU, is_swa = 0\n",
      "load_tensors: layer  16 assigned to device CPU, is_swa = 0\n",
      "load_tensors: layer  17 assigned to device CPU, is_swa = 0\n",
      "load_tensors: layer  18 assigned to device CPU, is_swa = 0\n",
      "load_tensors: layer  19 assigned to device CPU, is_swa = 0\n",
      "load_tensors: layer  20 assigned to device CPU, is_swa = 0\n",
      "load_tensors: layer  21 assigned to device CPU, is_swa = 0\n",
      "load_tensors: layer  22 assigned to device CPU, is_swa = 0\n",
      "load_tensors: layer  23 assigned to device CPU, is_swa = 0\n",
      "load_tensors: layer  24 assigned to device CPU, is_swa = 0\n",
      "load_tensors: layer  25 assigned to device CPU, is_swa = 0\n",
      "load_tensors: layer  26 assigned to device CPU, is_swa = 0\n",
      "load_tensors: layer  27 assigned to device CPU, is_swa = 0\n",
      "load_tensors: layer  28 assigned to device CPU, is_swa = 0\n",
      "load_tensors: layer  29 assigned to device CPU, is_swa = 0\n",
      "load_tensors: layer  30 assigned to device CPU, is_swa = 0\n",
      "load_tensors: layer  31 assigned to device CPU, is_swa = 0\n",
      "load_tensors: layer  32 assigned to device CPU, is_swa = 0\n",
      "load_tensors: tensor 'token_embd.weight' (q4_K) (and 244 others) cannot be used with preferred buffer type CPU_AARCH64, using CPU instead\n",
      "load_tensors:  CPU_AARCH64 model buffer size =   787.50 MiB\n",
      "load_tensors:   CPU_Mapped model buffer size =  1704.63 MiB\n",
      "repack: repack tensor blk.0.attn_output.weight with q4_K_8x8\n",
      "repack: repack tensor blk.0.ffn_up.weight with q4_K_8x8\n",
      ".repack: repack tensor blk.1.attn_output.weight with q4_K_8x8\n",
      "repack: repack tensor blk.1.ffn_up.weight with q4_K_8x8\n",
      ".repack: repack tensor blk.2.attn_output.weight with q4_K_8x8\n",
      "repack: repack tensor blk.2.ffn_down.weight with q4_K_8x8\n",
      ".repack: repack tensor blk.2.ffn_up.weight with q4_K_8x8\n",
      "repack: repack tensor blk.3.attn_output.weight with q4_K_8x8\n",
      ".repack: repack tensor blk.3.ffn_down.weight with q4_K_8x8\n",
      "repack: repack tensor blk.3.ffn_up.weight with q4_K_8x8\n",
      ".repack: repack tensor blk.4.attn_output.weight with q4_K_8x8\n",
      "repack: repack tensor blk.4.ffn_down.weight with q4_K_8x8\n",
      ".repack: repack tensor blk.4.ffn_up.weight with q4_K_8x8\n",
      ".repack: repack tensor blk.5.attn_output.weight with q4_K_8x8\n",
      "repack: repack tensor blk.5.ffn_up.weight with q4_K_8x8\n",
      ".repack: repack tensor blk.6.attn_output.weight with q4_K_8x8\n",
      "repack: repack tensor blk.6.ffn_down.weight with q4_K_8x8\n",
      ".repack: repack tensor blk.6.ffn_up.weight with q4_K_8x8\n",
      ".repack: repack tensor blk.7.attn_output.weight with q4_K_8x8\n",
      "repack: repack tensor blk.7.ffn_down.weight with q4_K_8x8\n",
      ".repack: repack tensor blk.7.ffn_up.weight with q4_K_8x8\n",
      ".repack: repack tensor blk.8.attn_output.weight with q4_K_8x8\n",
      "repack: repack tensor blk.8.ffn_up.weight with q4_K_8x8\n",
      ".repack: repack tensor blk.9.attn_output.weight with q4_K_8x8\n",
      "repack: repack tensor blk.9.ffn_down.weight with q4_K_8x8\n",
      ".repack: repack tensor blk.9.ffn_up.weight with q4_K_8x8\n",
      ".repack: repack tensor blk.10.attn_output.weight with q4_K_8x8\n",
      "repack: repack tensor blk.10.ffn_up.weight with q4_K_8x8\n",
      ".repack: repack tensor blk.11.attn_output.weight with q4_K_8x8\n",
      "repack: repack tensor blk.11.ffn_up.weight with q4_K_8x8\n",
      ".repack: repack tensor blk.12.attn_output.weight with q4_K_8x8\n",
      "repack: repack tensor blk.12.ffn_up.weight with q4_K_8x8\n",
      ".repack: repack tensor blk.13.attn_output.weight with q4_K_8x8\n",
      "repack: repack tensor blk.13.ffn_up.weight with q4_K_8x8\n",
      ".repack: repack tensor blk.14.attn_output.weight with q4_K_8x8\n",
      "repack: repack tensor blk.14.ffn_up.weight with q4_K_8x8\n",
      ".repack: repack tensor blk.15.attn_output.weight with q4_K_8x8\n",
      "repack: repack tensor blk.15.ffn_up.weight with q4_K_8x8\n",
      ".repack: repack tensor blk.16.attn_output.weight with q4_K_8x8\n",
      "repack: repack tensor blk.16.ffn_down.weight with q4_K_8x8\n",
      ".repack: repack tensor blk.16.ffn_up.weight with q4_K_8x8\n",
      ".repack: repack tensor blk.17.attn_output.weight with q4_K_8x8\n",
      "repack: repack tensor blk.17.ffn_down.weight with q4_K_8x8\n",
      ".repack: repack tensor blk.17.ffn_up.weight with q4_K_8x8\n",
      ".repack: repack tensor blk.18.attn_output.weight with q4_K_8x8\n",
      "repack: repack tensor blk.18.ffn_up.weight with q4_K_8x8\n",
      ".repack: repack tensor blk.19.attn_output.weight with q4_K_8x8\n",
      "repack: repack tensor blk.19.ffn_down.weight with q4_K_8x8\n",
      ".repack: repack tensor blk.19.ffn_up.weight with q4_K_8x8\n",
      ".repack: repack tensor blk.20.attn_output.weight with q4_K_8x8\n",
      "repack: repack tensor blk.20.ffn_up.weight with q4_K_8x8\n",
      ".repack: repack tensor blk.21.attn_output.weight with q4_K_8x8\n",
      "repack: repack tensor blk.21.ffn_down.weight with q4_K_8x8\n",
      ".repack: repack tensor blk.21.ffn_up.weight with q4_K_8x8\n",
      "repack: repack tensor blk.22.attn_output.weight with q4_K_8x8\n",
      ".repack: repack tensor blk.22.ffn_down.weight with q4_K_8x8\n",
      "repack: repack tensor blk.22.ffn_up.weight with q4_K_8x8\n",
      ".repack: repack tensor blk.23.attn_output.weight with q4_K_8x8\n",
      "repack: repack tensor blk.23.ffn_up.weight with q4_K_8x8\n",
      ".repack: repack tensor blk.24.attn_output.weight with q4_K_8x8\n",
      ".repack: repack tensor blk.24.ffn_down.weight with q4_K_8x8\n",
      "repack: repack tensor blk.24.ffn_up.weight with q4_K_8x8\n",
      ".repack: repack tensor blk.25.attn_output.weight with q4_K_8x8\n",
      "repack: repack tensor blk.25.ffn_down.weight with q4_K_8x8\n",
      ".repack: repack tensor blk.25.ffn_up.weight with q4_K_8x8\n",
      ".repack: repack tensor blk.26.attn_output.weight with q4_K_8x8\n",
      "repack: repack tensor blk.26.ffn_up.weight with q4_K_8x8\n",
      ".repack: repack tensor blk.27.attn_output.weight with q4_K_8x8\n",
      "repack: repack tensor blk.27.ffn_down.weight with q4_K_8x8\n",
      ".repack: repack tensor blk.27.ffn_up.weight with q4_K_8x8\n",
      ".repack: repack tensor blk.28.attn_output.weight with q4_K_8x8\n",
      "repack: repack tensor blk.28.ffn_down.weight with q4_K_8x8\n",
      ".repack: repack tensor blk.28.ffn_up.weight with q4_K_8x8\n",
      ".repack: repack tensor blk.29.attn_output.weight with q4_K_8x8\n",
      "repack: repack tensor blk.29.ffn_up.weight with q4_K_8x8\n",
      ".repack: repack tensor blk.30.attn_output.weight with q4_K_8x8\n",
      "repack: repack tensor blk.30.ffn_down.weight with q4_K_8x8\n",
      ".repack: repack tensor blk.30.ffn_up.weight with q4_K_8x8\n",
      ".repack: repack tensor blk.31.attn_output.weight with q4_K_8x8\n",
      "repack: repack tensor blk.31.ffn_up.weight with q4_K_8x8\n",
      ".............................................\n",
      "llama_context: constructing llama_context\n",
      "llama_context: n_seq_max     = 1\n",
      "llama_context: n_ctx         = 2048\n",
      "llama_context: n_ctx_per_seq = 2048\n",
      "llama_context: n_batch       = 512\n",
      "llama_context: n_ubatch      = 512\n",
      "llama_context: causal_attn   = 1\n",
      "llama_context: flash_attn    = 0\n",
      "llama_context: freq_base     = 10000.0\n",
      "llama_context: freq_scale    = 1\n",
      "set_abort_callback: call\n",
      "llama_context:        CPU  output buffer size =     0.20 MiB\n",
      "create_memory: n_ctx = 2048 (padded)\n",
      "llama_kv_cache_unified: kv_size = 2048, type_k = 'f16', type_v = 'f16', n_layer = 32, can_shift = 1, padding = 32\n",
      "llama_kv_cache_unified: layer   0: dev = CPU\n",
      "llama_kv_cache_unified: layer   1: dev = CPU\n",
      "llama_kv_cache_unified: layer   2: dev = CPU\n",
      "llama_kv_cache_unified: layer   3: dev = CPU\n",
      "llama_kv_cache_unified: layer   4: dev = CPU\n",
      "llama_kv_cache_unified: layer   5: dev = CPU\n",
      "llama_kv_cache_unified: layer   6: dev = CPU\n",
      "llama_kv_cache_unified: layer   7: dev = CPU\n",
      "llama_kv_cache_unified: layer   8: dev = CPU\n",
      "llama_kv_cache_unified: layer   9: dev = CPU\n",
      "llama_kv_cache_unified: layer  10: dev = CPU\n",
      "llama_kv_cache_unified: layer  11: dev = CPU\n",
      "llama_kv_cache_unified: layer  12: dev = CPU\n",
      "llama_kv_cache_unified: layer  13: dev = CPU\n",
      "llama_kv_cache_unified: layer  14: dev = CPU\n",
      "llama_kv_cache_unified: layer  15: dev = CPU\n",
      "llama_kv_cache_unified: layer  16: dev = CPU\n",
      "llama_kv_cache_unified: layer  17: dev = CPU\n",
      "llama_kv_cache_unified: layer  18: dev = CPU\n",
      "llama_kv_cache_unified: layer  19: dev = CPU\n",
      "llama_kv_cache_unified: layer  20: dev = CPU\n",
      "llama_kv_cache_unified: layer  21: dev = CPU\n",
      "llama_kv_cache_unified: layer  22: dev = CPU\n",
      "llama_kv_cache_unified: layer  23: dev = CPU\n",
      "llama_kv_cache_unified: layer  24: dev = CPU\n",
      "llama_kv_cache_unified: layer  25: dev = CPU\n",
      "llama_kv_cache_unified: layer  26: dev = CPU\n",
      "llama_kv_cache_unified: layer  27: dev = CPU\n",
      "llama_kv_cache_unified: layer  28: dev = CPU\n",
      "llama_kv_cache_unified: layer  29: dev = CPU\n",
      "llama_kv_cache_unified: layer  30: dev = CPU\n",
      "llama_kv_cache_unified: layer  31: dev = CPU\n",
      "llama_kv_cache_unified:        CPU KV buffer size =   640.00 MiB\n",
      "llama_kv_cache_unified: KV self size  =  640.00 MiB, K (f16):  320.00 MiB, V (f16):  320.00 MiB\n",
      "llama_context: enumerating backends\n",
      "llama_context: backend_ptrs.size() = 1\n",
      "llama_context: max_nodes = 65536\n",
      "llama_context: worst-case: n_tokens = 512, n_seqs = 1, n_outputs = 0\n",
      "llama_context: reserving graph for n_tokens = 512, n_seqs = 1\n",
      "llama_context: reserving graph for n_tokens = 1, n_seqs = 1\n",
      "llama_context: reserving graph for n_tokens = 512, n_seqs = 1\n",
      "llama_context:        CPU compute buffer size =   167.01 MiB\n",
      "llama_context: graph nodes  = 1289\n",
      "llama_context: graph splits = 1\n",
      "CPU : SSE3 = 1 | SSSE3 = 1 | AVX = 1 | AVX2 = 1 | F16C = 1 | FMA = 1 | LLAMAFILE = 1 | OPENMP = 1 | AARCH64_REPACK = 1 | \n",
      "Model metadata: {'general.architecture': 'phi2', 'phi2.context_length': '2048', 'general.name': 'Phi2', 'tokenizer.ggml.padding_token_id': '50256', 'phi2.attention.head_count_kv': '32', 'phi2.embedding_length': '2560', 'tokenizer.ggml.add_bos_token': 'false', 'phi2.feed_forward_length': '10240', 'general.quantization_version': '2', 'tokenizer.ggml.bos_token_id': '50256', 'phi2.block_count': '32', 'phi2.attention.head_count': '32', 'phi2.attention.layer_norm_epsilon': '0.000010', 'phi2.rope.dimension_count': '32', 'tokenizer.ggml.eos_token_id': '50295', 'general.file_type': '15', 'tokenizer.ggml.model': 'gpt2', 'tokenizer.ggml.unknown_token_id': '50256'}\n",
      "Using fallback chat format: llama-2\n"
     ]
    }
   ],
   "source": [
    "llm = LlamaCPP(model_path = model_path, temperature = 0.2, max_new_tokens = 256, context_window = 2048, verbose=True)"
   ]
  },
  {
   "cell_type": "code",
   "execution_count": 8,
   "id": "d1e122bd",
   "metadata": {},
   "outputs": [],
   "source": [
    "Settings.llm = llm"
   ]
  },
  {
   "cell_type": "code",
   "execution_count": 9,
   "id": "d77ce08e",
   "metadata": {},
   "outputs": [],
   "source": [
    "Settings.embed_model = HuggingFaceEmbedding(model_name = \"pritamdeka/BioBERT-mnli-snli-scinli-scitail-mednli-stsb\")"
   ]
  },
  {
   "cell_type": "code",
   "execution_count": 10,
   "id": "d143a922",
   "metadata": {},
   "outputs": [],
   "source": [
    "text_splitter = SentenceSplitter(chunk_size=512, chunk_overlap=50)\n",
    "Settings.node_parser = text_splitter"
   ]
  },
  {
   "cell_type": "code",
   "execution_count": 11,
   "id": "e8e605df",
   "metadata": {},
   "outputs": [],
   "source": [
    "dimensions = len(Settings.embed_model.get_text_embedding(\"sample text\"))\n",
    "\n",
    "faiss_index = faiss.IndexFlatL2(dimensions)\n",
    "faiss_db = FaissVectorStore(faiss_index = faiss_index)\n",
    "storage_context = StorageContext.from_defaults(vector_store = faiss_db)"
   ]
  },
  {
   "cell_type": "code",
   "execution_count": 12,
   "id": "7eae7ebe",
   "metadata": {},
   "outputs": [],
   "source": [
    "index = VectorStoreIndex.from_documents(docs, storage_context=storage_context)"
   ]
  },
  {
   "cell_type": "code",
   "execution_count": 13,
   "id": "0b205b80",
   "metadata": {},
   "outputs": [],
   "source": [
    "memory = ChatMemoryBuffer.from_defaults(token_limit = 600)\n",
    "query_engine = index.as_query_engine(similarity_top_k = 3)"
   ]
  },
  {
   "cell_type": "code",
   "execution_count": 14,
   "id": "abaab3a6",
   "metadata": {},
   "outputs": [],
   "source": [
    "chat_engine = CondenseQuestionChatEngine.from_defaults(\n",
    "    query_engine = query_engine,\n",
    "    memory = memory\n",
    ")"
   ]
  },
  {
   "cell_type": "code",
   "execution_count": 15,
   "id": "3e614af6",
   "metadata": {},
   "outputs": [],
   "source": [
    "query = 'Is elevated dopamine consistently observed in patients with schizophrenia?'"
   ]
  },
  {
   "cell_type": "code",
   "execution_count": 16,
   "id": "21fcfc0e",
   "metadata": {},
   "outputs": [
    {
     "name": "stderr",
     "output_type": "stream",
     "text": [
      "llama_perf_context_print:        load time =   31924.24 ms\n",
      "llama_perf_context_print: prompt eval time =   31848.82 ms /  1090 tokens (   29.22 ms per token,    34.22 tokens per second)\n",
      "llama_perf_context_print:        eval time =   31380.78 ms /   255 runs   (  123.06 ms per token,     8.13 tokens per second)\n",
      "llama_perf_context_print:       total time =   63753.19 ms /  1345 tokens\n"
     ]
    }
   ],
   "source": [
    "response = chat_engine.chat(query)"
   ]
  },
  {
   "cell_type": "code",
   "execution_count": 20,
   "id": "9b2b2996",
   "metadata": {},
   "outputs": [
    {
     "data": {
      "text/plain": [
       "AgentChatResponse(response=\"\\nBased on the provided studies, there is evidence of elevated dopamine in patients with schizophrenia, particularly in midbrain regions that project to parts of the striatum. However, the relationship between dopamine and schizophrenia is complex, and the findings are not consistent across all studies. Some studies have found preliminary evidence of an association between chronic social stress exposure and increased striatal dopamine functioning, but the quality of available studies is generally low. Therefore, while there is some evidence of elevated dopamine in schizophrenia, the findings are not universally consistent.\\n\\nThe studies also suggest that NM levels are higher in patients with schizophrenia than in healthy control individuals, which further supports the link between dopamine and schizophrenia. However, it's important to note that these findings are based on specific measures of dopamine and NM, and more research is needed to fully understand the relationship between dopamine and schizophrenia.\\n\\nIn summary, while there is some evidence of elevated dopamine in patients with schizophrenia, the findings are not consistently observed across all studies, and the relationship between dopamine and schizophrenia is complex. Further research is needed to fully understand the role of dopamine in schizophrenia and its potential as a therapeutic target.\\n\\nIt's also worth mentioning that the studies mentioned in the provided context information are not exhaustive, and there may be other studies that\", sources=[ToolOutput(content=\"\\nBased on the provided studies, there is evidence of elevated dopamine in patients with schizophrenia, particularly in midbrain regions that project to parts of the striatum. However, the relationship between dopamine and schizophrenia is complex, and the findings are not consistent across all studies. Some studies have found preliminary evidence of an association between chronic social stress exposure and increased striatal dopamine functioning, but the quality of available studies is generally low. Therefore, while there is some evidence of elevated dopamine in schizophrenia, the findings are not universally consistent.\\n\\nThe studies also suggest that NM levels are higher in patients with schizophrenia than in healthy control individuals, which further supports the link between dopamine and schizophrenia. However, it's important to note that these findings are based on specific measures of dopamine and NM, and more research is needed to fully understand the relationship between dopamine and schizophrenia.\\n\\nIn summary, while there is some evidence of elevated dopamine in patients with schizophrenia, the findings are not consistently observed across all studies, and the relationship between dopamine and schizophrenia is complex. Further research is needed to fully understand the role of dopamine in schizophrenia and its potential as a therapeutic target.\\n\\nIt's also worth mentioning that the studies mentioned in the provided context information are not exhaustive, and there may be other studies that\", tool_name='query_engine', raw_input={'query': 'Is elevated dopamine consistently observed in patients with schizophrenia?'}, raw_output=Response(response=\"\\nBased on the provided studies, there is evidence of elevated dopamine in patients with schizophrenia, particularly in midbrain regions that project to parts of the striatum. However, the relationship between dopamine and schizophrenia is complex, and the findings are not consistent across all studies. Some studies have found preliminary evidence of an association between chronic social stress exposure and increased striatal dopamine functioning, but the quality of available studies is generally low. Therefore, while there is some evidence of elevated dopamine in schizophrenia, the findings are not universally consistent.\\n\\nThe studies also suggest that NM levels are higher in patients with schizophrenia than in healthy control individuals, which further supports the link between dopamine and schizophrenia. However, it's important to note that these findings are based on specific measures of dopamine and NM, and more research is needed to fully understand the relationship between dopamine and schizophrenia.\\n\\nIn summary, while there is some evidence of elevated dopamine in patients with schizophrenia, the findings are not consistently observed across all studies, and the relationship between dopamine and schizophrenia is complex. Further research is needed to fully understand the role of dopamine in schizophrenia and its potential as a therapeutic target.\\n\\nIt's also worth mentioning that the studies mentioned in the provided context information are not exhaustive, and there may be other studies that\", source_nodes=[NodeWithScore(node=TextNode(id_='c8237615-bbf1-4f26-85f9-37a5bab87687', embedding=None, metadata={'title': 'Mesostriatal Dopaminergic Circuit Dysfunction in Schizophrenia: A Multimodal Neuromelanin-Sensitive Magnetic Resonance Imaging and [<sup>18</sup>F]-DOPA Positron Emission Tomography Study.', 'year': '2024'}, excluded_embed_metadata_keys=[], excluded_llm_metadata_keys=[], relationships={<NodeRelationship.SOURCE: '1'>: RelatedNodeInfo(node_id='208d6170-1c0e-4c2d-8bc3-be8e43ff802d', node_type='4', metadata={'title': 'Mesostriatal Dopaminergic Circuit Dysfunction in Schizophrenia: A Multimodal Neuromelanin-Sensitive Magnetic Resonance Imaging and [<sup>18</sup>F]-DOPA Positron Emission Tomography Study.', 'year': '2024'}, hash='a43fc3236e4979dd4f15a959092b4708e56a2f1a5ca0b15761f7fc9d1156dcd1'), <NodeRelationship.NEXT: '3'>: RelatedNodeInfo(node_id='7b115db2-c7ef-4bc6-aa8d-609b4710c494', node_type='1', metadata={}, hash='3af30b0d172b598f1de20fc3301910bf22126732d18d7a2b1dc4d8d6d8b48dd9')}, metadata_template='{key}: {value}', metadata_separator='\\n', text='Striatal hyperdopaminergia is implicated in the pathoetiology of schizophrenia, but how this relates to dopaminergic midbrain activity is unclear. Neuromelanin (NM)-sensitive magnetic resonance imaging provides a marker of long-term dopamine function. We examined whether midbrain NM-sensitive magnetic resonance imaging contrast-to-noise ratio (NM-CNR) was higher in people with schizophrenia than in healthy control (HC) participants and whether this correlated with dopamine synthesis capacity. One hundred fifty-four participants (schizophrenia group: n\\xa0= 74, HC group: n\\xa0= 80) underwent NM-sensitive magnetic resonance imaging of the substantia nigra and ventral tegmental area (SN-VTA). A subset of the schizophrenia group (n\\xa0= 38) also received [<sup>18</sup>F]-DOPA positron emission tomography to measure dopamine synthesis capacity (K<sub>i</sub><sup>cer</sup>) in the SN-VTA and striatum. SN-VTA NM-CNR was significantly higher in patients with schizophrenia than in HC participants (effect size\\xa0= 0.38, p\\xa0= .019). This effect was greatest for voxels in the medial and ventral SN-VTA. In patients, SN-VTA K<sub>i</sub><sup>cer</sup> positively correlated with SN-VTA NM-CNR (r\\xa0= 0.44, p\\xa0= .005) and striatal K<sub>i</sub><sup>cer</sup> (r\\xa0= 0.71, p < .001). Voxelwise analysis demonstrated that SN-VTA NM-CNR was positively associated with striatal K<sub>i</sub><sup>cer</sup> (r\\xa0= 0.53, p\\xa0=\\xa0.005) and that this relationship seemed strongest between the ventral SN-VTA and associative striatum in schizophrenia. Our results suggest that NM levels are higher in patients with schizophrenia than in HC individuals, particularly in midbrain regions that project to parts of the striatum that receive innervation from the limbic and association cortices.', mimetype='text/plain', start_char_idx=0, end_char_idx=1761, metadata_seperator='\\n', text_template='{metadata_str}\\n\\n{content}'), score=0.6485284566879272), NodeWithScore(node=TextNode(id_='9ee85381-394e-49dd-916c-2c330fc3c8b1', embedding=None, metadata={'title': 'Chronic social stressors and striatal dopamine functioning in humans: A systematic review of SPECT and PET studies.', 'year': '2024'}, excluded_embed_metadata_keys=[], excluded_llm_metadata_keys=[], relationships={<NodeRelationship.SOURCE: '1'>: RelatedNodeInfo(node_id='c0215366-f448-4168-af0e-3c4c41d9ff2e', node_type='4', metadata={'title': 'Chronic social stressors and striatal dopamine functioning in humans: A systematic review of SPECT and PET studies.', 'year': '2024'}, hash='cd67d2d033799cb6e515b52d3671590fd4135551d597c80b316f580208d7848e')}, metadata_template='{key}: {value}', metadata_separator='\\n', text='The dopamine hypothesis of schizophrenia posits that elevated striatal dopamine functioning underlies the development of psychotic symptoms. Chronic exposure to social stressors increases psychosis risk, possibly by upregulating striatal dopamine functioning. Here we systematically review single photon emission computed tomography (SPECT) and positron emission tomography (PET) studies that examined the relationship between chronic social stress exposure and in vivo striatal dopamine functioning in humans. We searched the scientific databases PubMed and PsycINFO from inception to August 2023. The quality of the included studies was evaluated with the ten-item Observational Study Quality Evaluation (PROSPERO: CRD42022308883). Twenty-eight studies were included, which measured different aspects of striatal dopamine functioning including dopamine synthesis capacity (DSC), vesicular monoamine transporter type 2 binding, dopamine release following a pharmacological or behavioral challenge, D<sub>2/3</sub> receptor binding, and dopamine transporter binding. We observed preliminary evidence of an association between childhood trauma and increased striatal DSC and dopamine release. However, exposure to low socioeconomic status, stressful life events, or other social stressors was not consistently associated with altered striatal dopamine functioning. The quality of available studies was generally low. In conclusion, there is insufficient evidence that chronic social stressors upregulate striatal dopamine functioning in humans. We propose avenues for future research, in particular to improve the measurement of chronic social stressors and the methodological quality of study designs.', mimetype='text/plain', start_char_idx=0, end_char_idx=1701, metadata_seperator='\\n', text_template='{metadata_str}\\n\\n{content}'), score=0.6819461584091187), NodeWithScore(node=TextNode(id_='7b115db2-c7ef-4bc6-aa8d-609b4710c494', embedding=None, metadata={'title': 'Mesostriatal Dopaminergic Circuit Dysfunction in Schizophrenia: A Multimodal Neuromelanin-Sensitive Magnetic Resonance Imaging and [<sup>18</sup>F]-DOPA Positron Emission Tomography Study.', 'year': '2024'}, excluded_embed_metadata_keys=[], excluded_llm_metadata_keys=[], relationships={<NodeRelationship.SOURCE: '1'>: RelatedNodeInfo(node_id='208d6170-1c0e-4c2d-8bc3-be8e43ff802d', node_type='4', metadata={'title': 'Mesostriatal Dopaminergic Circuit Dysfunction in Schizophrenia: A Multimodal Neuromelanin-Sensitive Magnetic Resonance Imaging and [<sup>18</sup>F]-DOPA Positron Emission Tomography Study.', 'year': '2024'}, hash='a43fc3236e4979dd4f15a959092b4708e56a2f1a5ca0b15761f7fc9d1156dcd1'), <NodeRelationship.PREVIOUS: '2'>: RelatedNodeInfo(node_id='c8237615-bbf1-4f26-85f9-37a5bab87687', node_type='1', metadata={'title': 'Mesostriatal Dopaminergic Circuit Dysfunction in Schizophrenia: A Multimodal Neuromelanin-Sensitive Magnetic Resonance Imaging and [<sup>18</sup>F]-DOPA Positron Emission Tomography Study.', 'year': '2024'}, hash='591c6f1047b5db8048a3301e1d3fae24f950aec5b5ff6fbefb13d499c72460b2')}, metadata_template='{key}: {value}', metadata_separator='\\n', text='Our results suggest that NM levels are higher in patients with schizophrenia than in HC individuals, particularly in midbrain regions that project to parts of the striatum that receive innervation from the limbic and association cortices. The direct relationship between measures of NM and dopamine synthesis suggests that these aspects of schizophrenia pathophysiology are linked. Our findings highlight specific mesostriatal circuits as the loci of dopamine dysfunction in schizophrenia and thus as potential therapeutic targets.', mimetype='text/plain', start_char_idx=1523, end_char_idx=2054, metadata_seperator='\\n', text_template='{metadata_str}\\n\\n{content}'), score=0.6902192831039429)], metadata={'c8237615-bbf1-4f26-85f9-37a5bab87687': {'title': 'Mesostriatal Dopaminergic Circuit Dysfunction in Schizophrenia: A Multimodal Neuromelanin-Sensitive Magnetic Resonance Imaging and [<sup>18</sup>F]-DOPA Positron Emission Tomography Study.', 'year': '2024'}, '9ee85381-394e-49dd-916c-2c330fc3c8b1': {'title': 'Chronic social stressors and striatal dopamine functioning in humans: A systematic review of SPECT and PET studies.', 'year': '2024'}, '7b115db2-c7ef-4bc6-aa8d-609b4710c494': {'title': 'Mesostriatal Dopaminergic Circuit Dysfunction in Schizophrenia: A Multimodal Neuromelanin-Sensitive Magnetic Resonance Imaging and [<sup>18</sup>F]-DOPA Positron Emission Tomography Study.', 'year': '2024'}}), is_error=False)], source_nodes=[NodeWithScore(node=TextNode(id_='c8237615-bbf1-4f26-85f9-37a5bab87687', embedding=None, metadata={'title': 'Mesostriatal Dopaminergic Circuit Dysfunction in Schizophrenia: A Multimodal Neuromelanin-Sensitive Magnetic Resonance Imaging and [<sup>18</sup>F]-DOPA Positron Emission Tomography Study.', 'year': '2024'}, excluded_embed_metadata_keys=[], excluded_llm_metadata_keys=[], relationships={<NodeRelationship.SOURCE: '1'>: RelatedNodeInfo(node_id='208d6170-1c0e-4c2d-8bc3-be8e43ff802d', node_type='4', metadata={'title': 'Mesostriatal Dopaminergic Circuit Dysfunction in Schizophrenia: A Multimodal Neuromelanin-Sensitive Magnetic Resonance Imaging and [<sup>18</sup>F]-DOPA Positron Emission Tomography Study.', 'year': '2024'}, hash='a43fc3236e4979dd4f15a959092b4708e56a2f1a5ca0b15761f7fc9d1156dcd1'), <NodeRelationship.NEXT: '3'>: RelatedNodeInfo(node_id='7b115db2-c7ef-4bc6-aa8d-609b4710c494', node_type='1', metadata={}, hash='3af30b0d172b598f1de20fc3301910bf22126732d18d7a2b1dc4d8d6d8b48dd9')}, metadata_template='{key}: {value}', metadata_separator='\\n', text='Striatal hyperdopaminergia is implicated in the pathoetiology of schizophrenia, but how this relates to dopaminergic midbrain activity is unclear. Neuromelanin (NM)-sensitive magnetic resonance imaging provides a marker of long-term dopamine function. We examined whether midbrain NM-sensitive magnetic resonance imaging contrast-to-noise ratio (NM-CNR) was higher in people with schizophrenia than in healthy control (HC) participants and whether this correlated with dopamine synthesis capacity. One hundred fifty-four participants (schizophrenia group: n\\xa0= 74, HC group: n\\xa0= 80) underwent NM-sensitive magnetic resonance imaging of the substantia nigra and ventral tegmental area (SN-VTA). A subset of the schizophrenia group (n\\xa0= 38) also received [<sup>18</sup>F]-DOPA positron emission tomography to measure dopamine synthesis capacity (K<sub>i</sub><sup>cer</sup>) in the SN-VTA and striatum. SN-VTA NM-CNR was significantly higher in patients with schizophrenia than in HC participants (effect size\\xa0= 0.38, p\\xa0= .019). This effect was greatest for voxels in the medial and ventral SN-VTA. In patients, SN-VTA K<sub>i</sub><sup>cer</sup> positively correlated with SN-VTA NM-CNR (r\\xa0= 0.44, p\\xa0= .005) and striatal K<sub>i</sub><sup>cer</sup> (r\\xa0= 0.71, p < .001). Voxelwise analysis demonstrated that SN-VTA NM-CNR was positively associated with striatal K<sub>i</sub><sup>cer</sup> (r\\xa0= 0.53, p\\xa0=\\xa0.005) and that this relationship seemed strongest between the ventral SN-VTA and associative striatum in schizophrenia. Our results suggest that NM levels are higher in patients with schizophrenia than in HC individuals, particularly in midbrain regions that project to parts of the striatum that receive innervation from the limbic and association cortices.', mimetype='text/plain', start_char_idx=0, end_char_idx=1761, metadata_seperator='\\n', text_template='{metadata_str}\\n\\n{content}'), score=0.6485284566879272), NodeWithScore(node=TextNode(id_='9ee85381-394e-49dd-916c-2c330fc3c8b1', embedding=None, metadata={'title': 'Chronic social stressors and striatal dopamine functioning in humans: A systematic review of SPECT and PET studies.', 'year': '2024'}, excluded_embed_metadata_keys=[], excluded_llm_metadata_keys=[], relationships={<NodeRelationship.SOURCE: '1'>: RelatedNodeInfo(node_id='c0215366-f448-4168-af0e-3c4c41d9ff2e', node_type='4', metadata={'title': 'Chronic social stressors and striatal dopamine functioning in humans: A systematic review of SPECT and PET studies.', 'year': '2024'}, hash='cd67d2d033799cb6e515b52d3671590fd4135551d597c80b316f580208d7848e')}, metadata_template='{key}: {value}', metadata_separator='\\n', text='The dopamine hypothesis of schizophrenia posits that elevated striatal dopamine functioning underlies the development of psychotic symptoms. Chronic exposure to social stressors increases psychosis risk, possibly by upregulating striatal dopamine functioning. Here we systematically review single photon emission computed tomography (SPECT) and positron emission tomography (PET) studies that examined the relationship between chronic social stress exposure and in vivo striatal dopamine functioning in humans. We searched the scientific databases PubMed and PsycINFO from inception to August 2023. The quality of the included studies was evaluated with the ten-item Observational Study Quality Evaluation (PROSPERO: CRD42022308883). Twenty-eight studies were included, which measured different aspects of striatal dopamine functioning including dopamine synthesis capacity (DSC), vesicular monoamine transporter type 2 binding, dopamine release following a pharmacological or behavioral challenge, D<sub>2/3</sub> receptor binding, and dopamine transporter binding. We observed preliminary evidence of an association between childhood trauma and increased striatal DSC and dopamine release. However, exposure to low socioeconomic status, stressful life events, or other social stressors was not consistently associated with altered striatal dopamine functioning. The quality of available studies was generally low. In conclusion, there is insufficient evidence that chronic social stressors upregulate striatal dopamine functioning in humans. We propose avenues for future research, in particular to improve the measurement of chronic social stressors and the methodological quality of study designs.', mimetype='text/plain', start_char_idx=0, end_char_idx=1701, metadata_seperator='\\n', text_template='{metadata_str}\\n\\n{content}'), score=0.6819461584091187), NodeWithScore(node=TextNode(id_='7b115db2-c7ef-4bc6-aa8d-609b4710c494', embedding=None, metadata={'title': 'Mesostriatal Dopaminergic Circuit Dysfunction in Schizophrenia: A Multimodal Neuromelanin-Sensitive Magnetic Resonance Imaging and [<sup>18</sup>F]-DOPA Positron Emission Tomography Study.', 'year': '2024'}, excluded_embed_metadata_keys=[], excluded_llm_metadata_keys=[], relationships={<NodeRelationship.SOURCE: '1'>: RelatedNodeInfo(node_id='208d6170-1c0e-4c2d-8bc3-be8e43ff802d', node_type='4', metadata={'title': 'Mesostriatal Dopaminergic Circuit Dysfunction in Schizophrenia: A Multimodal Neuromelanin-Sensitive Magnetic Resonance Imaging and [<sup>18</sup>F]-DOPA Positron Emission Tomography Study.', 'year': '2024'}, hash='a43fc3236e4979dd4f15a959092b4708e56a2f1a5ca0b15761f7fc9d1156dcd1'), <NodeRelationship.PREVIOUS: '2'>: RelatedNodeInfo(node_id='c8237615-bbf1-4f26-85f9-37a5bab87687', node_type='1', metadata={'title': 'Mesostriatal Dopaminergic Circuit Dysfunction in Schizophrenia: A Multimodal Neuromelanin-Sensitive Magnetic Resonance Imaging and [<sup>18</sup>F]-DOPA Positron Emission Tomography Study.', 'year': '2024'}, hash='591c6f1047b5db8048a3301e1d3fae24f950aec5b5ff6fbefb13d499c72460b2')}, metadata_template='{key}: {value}', metadata_separator='\\n', text='Our results suggest that NM levels are higher in patients with schizophrenia than in HC individuals, particularly in midbrain regions that project to parts of the striatum that receive innervation from the limbic and association cortices. The direct relationship between measures of NM and dopamine synthesis suggests that these aspects of schizophrenia pathophysiology are linked. Our findings highlight specific mesostriatal circuits as the loci of dopamine dysfunction in schizophrenia and thus as potential therapeutic targets.', mimetype='text/plain', start_char_idx=1523, end_char_idx=2054, metadata_seperator='\\n', text_template='{metadata_str}\\n\\n{content}'), score=0.6902192831039429)], is_dummy_stream=False, metadata=None)"
      ]
     },
     "execution_count": 20,
     "metadata": {},
     "output_type": "execute_result"
    }
   ],
   "source": [
    "response"
   ]
  },
  {
   "cell_type": "code",
   "execution_count": null,
   "id": "4389c5ff",
   "metadata": {},
   "outputs": [
    {
     "data": {
      "text/plain": [
       "\"\\nBased on the provided studies, there is evidence of elevated dopamine in patients with schizophrenia, particularly in midbrain regions that project to parts of the striatum. However, the relationship between dopamine and schizophrenia is complex, and the findings are not consistent across all studies. Some studies have found preliminary evidence of an association between chronic social stress exposure and increased striatal dopamine functioning, but the quality of available studies is generally low. Therefore, while there is some evidence of elevated dopamine in schizophrenia, the findings are not universally consistent.\\n\\nThe studies also suggest that NM levels are higher in patients with schizophrenia than in healthy control individuals, which further supports the link between dopamine and schizophrenia. However, it's important to note that these findings are based on specific measures of dopamine and NM, and more research is needed to fully understand the relationship between dopamine and schizophrenia.\\n\\nIn summary, while there is some evidence of elevated dopamine in patients with schizophrenia, the findings are not consistently observed across all studies, and the relationship between dopamine and schizophrenia is complex. Further research is needed to fully understand the role of dopamine in schizophrenia and its potential as a therapeutic target.\\n\\nIt's also worth mentioning that the studies mentioned in the provided context information are not exhaustive, and there may be other studies that\""
      ]
     },
     "execution_count": 22,
     "metadata": {},
     "output_type": "execute_result"
    }
   ],
   "source": [
    "chat_response = response.response"
   ]
  },
  {
   "cell_type": "code",
   "execution_count": null,
   "id": "e04ede45",
   "metadata": {},
   "outputs": [],
   "source": []
  }
 ],
 "metadata": {
  "kernelspec": {
   "display_name": "RAG",
   "language": "python",
   "name": "python3"
  },
  "language_info": {
   "codemirror_mode": {
    "name": "ipython",
    "version": 3
   },
   "file_extension": ".py",
   "mimetype": "text/x-python",
   "name": "python",
   "nbconvert_exporter": "python",
   "pygments_lexer": "ipython3",
   "version": "3.13.2"
  }
 },
 "nbformat": 4,
 "nbformat_minor": 5
}
