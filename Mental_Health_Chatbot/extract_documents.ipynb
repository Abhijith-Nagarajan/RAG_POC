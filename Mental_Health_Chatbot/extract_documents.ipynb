{
 "cells": [
  {
   "cell_type": "code",
   "execution_count": 2,
   "id": "dc67f32e",
   "metadata": {},
   "outputs": [],
   "source": [
    "import json\n",
    "import os\n",
    "import pandas as pd\n",
    "from llama_index.core.schema import Document"
   ]
  },
  {
   "cell_type": "code",
   "execution_count": 3,
   "id": "46730c3d",
   "metadata": {},
   "outputs": [],
   "source": [
    "source_directory = \"./pubmed_outputs\"\n",
    "target_directory = \"./pubmed_abstracts\""
   ]
  },
  {
   "cell_type": "code",
   "execution_count": 4,
   "id": "599c29f7",
   "metadata": {},
   "outputs": [],
   "source": [
    "os.makedirs(\"pubmed_abstracts\", exist_ok=True)"
   ]
  },
  {
   "cell_type": "code",
   "execution_count": 5,
   "id": "8a7e575e",
   "metadata": {},
   "outputs": [],
   "source": [
    "abstracts_df = pd.DataFrame(columns=[\"title\", \"abstract\", \"year\"])"
   ]
  },
  {
   "cell_type": "code",
   "execution_count": 6,
   "id": "0e083d35",
   "metadata": {},
   "outputs": [],
   "source": [
    "for file in os.listdir(source_directory):\n",
    "    file_path = os.path.join(source_directory,file)\n",
    "    with open(file_path, 'r') as f:\n",
    "        try:\n",
    "            json_data = json.loads(f.read())\n",
    "            for data in json_data:\n",
    "                abstract = data.get(\"abstract\", \"\")\n",
    "                title = data.get(\"title\", \"\")\n",
    "                year = data.get(\"year\", \"\")\n",
    "                abstracts_df.loc[len(abstracts_df)] = [title, abstract, year]     \n",
    "        except Exception as e:\n",
    "            print(f\"Error occurred while processing file {file}: {e}\")"
   ]
  },
  {
   "cell_type": "code",
   "execution_count": 7,
   "id": "6f4516cb",
   "metadata": {},
   "outputs": [],
   "source": [
    "target_directory = os.path.join(target_directory, \"pubmed_abstracts.csv\")\n",
    "abstracts_df.to_csv(target_directory, index=False)"
   ]
  },
  {
   "cell_type": "code",
   "execution_count": 8,
   "id": "87983b0e",
   "metadata": {},
   "outputs": [
    {
     "data": {
      "text/html": [
       "<div>\n",
       "<style scoped>\n",
       "    .dataframe tbody tr th:only-of-type {\n",
       "        vertical-align: middle;\n",
       "    }\n",
       "\n",
       "    .dataframe tbody tr th {\n",
       "        vertical-align: top;\n",
       "    }\n",
       "\n",
       "    .dataframe thead th {\n",
       "        text-align: right;\n",
       "    }\n",
       "</style>\n",
       "<table border=\"1\" class=\"dataframe\">\n",
       "  <thead>\n",
       "    <tr style=\"text-align: right;\">\n",
       "      <th></th>\n",
       "      <th>title</th>\n",
       "      <th>abstract</th>\n",
       "      <th>year</th>\n",
       "    </tr>\n",
       "  </thead>\n",
       "  <tbody>\n",
       "    <tr>\n",
       "      <th>0</th>\n",
       "      <td>Choline metabolism in regulating inflammatory ...</td>\n",
       "      <td>Anxiety and depression caused by inflammatory ...</td>\n",
       "      <td>2024</td>\n",
       "    </tr>\n",
       "    <tr>\n",
       "      <th>1</th>\n",
       "      <td>Selective corticotropin-releasing factor 1 rec...</td>\n",
       "      <td>Corticotropin-releasing factor (CRF) is a horm...</td>\n",
       "      <td>2016</td>\n",
       "    </tr>\n",
       "    <tr>\n",
       "      <th>2</th>\n",
       "      <td>Behavior and the cholinergic parameters in olf...</td>\n",
       "      <td>Olfactory bulbectomy (OBX) in rodents induces ...</td>\n",
       "      <td>2016</td>\n",
       "    </tr>\n",
       "    <tr>\n",
       "      <th>3</th>\n",
       "      <td>The role of the cholinergic system in the sign...</td>\n",
       "      <td>In comparison to studies of the involvement of...</td>\n",
       "      <td>2013</td>\n",
       "    </tr>\n",
       "    <tr>\n",
       "      <th>4</th>\n",
       "      <td>Effects of cholinergic system of dorsal hippoc...</td>\n",
       "      <td>Some investigations have shown that the glutam...</td>\n",
       "      <td>2011</td>\n",
       "    </tr>\n",
       "    <tr>\n",
       "      <th>...</th>\n",
       "      <td>...</td>\n",
       "      <td>...</td>\n",
       "      <td>...</td>\n",
       "    </tr>\n",
       "    <tr>\n",
       "      <th>830</th>\n",
       "      <td>Glucocorticoid receptor dysregulation underlie...</td>\n",
       "      <td>Prenatal environmental insults increase the ri...</td>\n",
       "      <td>2022</td>\n",
       "    </tr>\n",
       "    <tr>\n",
       "      <th>831</th>\n",
       "      <td>Association between the loudness dependence of...</td>\n",
       "      <td>Although serotonergic dysfunction is significa...</td>\n",
       "      <td>2022</td>\n",
       "    </tr>\n",
       "    <tr>\n",
       "      <th>832</th>\n",
       "      <td>Identification of cerebrospinal fluid and seru...</td>\n",
       "      <td>Psychotic disorders are currently diagnosed by...</td>\n",
       "      <td>2022</td>\n",
       "    </tr>\n",
       "    <tr>\n",
       "      <th>833</th>\n",
       "      <td>Mismatch negativity as an index of target enga...</td>\n",
       "      <td>Serotonin type-3 receptor (5-HT&lt;sub&gt;3&lt;/sub&gt;R) ...</td>\n",
       "      <td>2022</td>\n",
       "    </tr>\n",
       "    <tr>\n",
       "      <th>834</th>\n",
       "      <td>Opposite alterations of 5-HT&lt;sub&gt;2A&lt;/sub&gt; rece...</td>\n",
       "      <td>The status of serotonin 5-HT&lt;sub&gt;2A&lt;/sub&gt; rece...</td>\n",
       "      <td>2021</td>\n",
       "    </tr>\n",
       "  </tbody>\n",
       "</table>\n",
       "<p>835 rows × 3 columns</p>\n",
       "</div>"
      ],
      "text/plain": [
       "                                                 title  \\\n",
       "0    Choline metabolism in regulating inflammatory ...   \n",
       "1    Selective corticotropin-releasing factor 1 rec...   \n",
       "2    Behavior and the cholinergic parameters in olf...   \n",
       "3    The role of the cholinergic system in the sign...   \n",
       "4    Effects of cholinergic system of dorsal hippoc...   \n",
       "..                                                 ...   \n",
       "830  Glucocorticoid receptor dysregulation underlie...   \n",
       "831  Association between the loudness dependence of...   \n",
       "832  Identification of cerebrospinal fluid and seru...   \n",
       "833  Mismatch negativity as an index of target enga...   \n",
       "834  Opposite alterations of 5-HT<sub>2A</sub> rece...   \n",
       "\n",
       "                                              abstract  year  \n",
       "0    Anxiety and depression caused by inflammatory ...  2024  \n",
       "1    Corticotropin-releasing factor (CRF) is a horm...  2016  \n",
       "2    Olfactory bulbectomy (OBX) in rodents induces ...  2016  \n",
       "3    In comparison to studies of the involvement of...  2013  \n",
       "4    Some investigations have shown that the glutam...  2011  \n",
       "..                                                 ...   ...  \n",
       "830  Prenatal environmental insults increase the ri...  2022  \n",
       "831  Although serotonergic dysfunction is significa...  2022  \n",
       "832  Psychotic disorders are currently diagnosed by...  2022  \n",
       "833  Serotonin type-3 receptor (5-HT<sub>3</sub>R) ...  2022  \n",
       "834  The status of serotonin 5-HT<sub>2A</sub> rece...  2021  \n",
       "\n",
       "[835 rows x 3 columns]"
      ]
     },
     "execution_count": 8,
     "metadata": {},
     "output_type": "execute_result"
    }
   ],
   "source": [
    "abstracts_df"
   ]
  },
  {
   "cell_type": "code",
   "execution_count": 9,
   "id": "bf1b5b79",
   "metadata": {},
   "outputs": [],
   "source": [
    "def dataframe_to_documents(df):\n",
    "    docs = []\n",
    "    for _, row in df.iterrows():\n",
    "        text = row[\"abstract\"]\n",
    "        metadata = {\n",
    "            \"title\": row.get(\"title\", \"\"),\n",
    "            \"year\": row.get(\"year\", \"\"),\n",
    "        }\n",
    "        docs.append(Document(text=text, metadata=metadata))\n",
    "    return docs"
   ]
  },
  {
   "cell_type": "code",
   "execution_count": 10,
   "id": "3e679ee3",
   "metadata": {},
   "outputs": [],
   "source": [
    "documents = dataframe_to_documents(abstracts_df)"
   ]
  },
  {
   "cell_type": "code",
   "execution_count": null,
   "id": "381d8960",
   "metadata": {},
   "outputs": [],
   "source": []
  }
 ],
 "metadata": {
  "kernelspec": {
   "display_name": "RAG",
   "language": "python",
   "name": "python3"
  },
  "language_info": {
   "codemirror_mode": {
    "name": "ipython",
    "version": 3
   },
   "file_extension": ".py",
   "mimetype": "text/x-python",
   "name": "python",
   "nbconvert_exporter": "python",
   "pygments_lexer": "ipython3",
   "version": "3.13.2"
  }
 },
 "nbformat": 4,
 "nbformat_minor": 5
}
