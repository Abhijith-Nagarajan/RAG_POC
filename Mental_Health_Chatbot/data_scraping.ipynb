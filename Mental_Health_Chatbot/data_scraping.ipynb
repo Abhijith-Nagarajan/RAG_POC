{
 "cells": [
  {
   "cell_type": "code",
   "execution_count": 36,
   "id": "1c51d569",
   "metadata": {},
   "outputs": [],
   "source": [
    "from Bio import Entrez\n",
    "import time\n",
    "import os\n",
    "import getpass\n",
    "import json"
   ]
  },
  {
   "cell_type": "code",
   "execution_count": 2,
   "id": "300ec867",
   "metadata": {},
   "outputs": [],
   "source": [
    "Entrez.email =   getpass.getpass(\"Enter your email: \")"
   ]
  },
  {
   "cell_type": "code",
   "execution_count": 3,
   "id": "256bad0b",
   "metadata": {},
   "outputs": [],
   "source": [
    "mental_disorders = [ \"Anxiety Disorders\", \"Depressive Disorder\", \"Bipolar Disorder\", \"Schizophrenia\", \n",
    "                    \"Post-Traumatic Stress Disorder\", \"Obsessive-Compulsive Disorder\"]\n",
    "\n",
    "neurotransmitters = [\"Dopamine\", \"Serotonin\", \"Gamma-Aminobutyric Acid\", \"Norepinephrine\", \"Glutamic Acid\", \"Acetylcholine\",\n",
    "                     \"Endorphins\"]"
   ]
  },
  {
   "cell_type": "markdown",
   "id": "3b126ec3",
   "metadata": {},
   "source": [
    "### Scraping documents"
   ]
  },
  {
   "cell_type": "code",
   "execution_count": 35,
   "id": "c18f313a",
   "metadata": {},
   "outputs": [],
   "source": [
    "def fetch_pubmed_json(query, max_results=10):\n",
    "    # Search for articles\n",
    "    handle = Entrez.esearch(db=\"pubmed\", term=query, retmax=max_results)\n",
    "    record = Entrez.read(handle)\n",
    "    ids = record[\"IdList\"]\n",
    "\n",
    "    if not ids:\n",
    "        print(f\"No articles found for: {query}\")\n",
    "        return []\n",
    "\n",
    "    # Fetch details in XML format\n",
    "    fetched_articles = Entrez.efetch(\n",
    "        db=\"pubmed\", id=ids, rettype=\"xml\", retmode=\"text\"\n",
    "    )\n",
    "    articles = Entrez.read(fetched_articles)\n",
    "    fetched_articles.close()\n",
    "\n",
    "    results = []\n",
    "\n",
    "    for article in articles[\"PubmedArticle\"]:\n",
    "        try:\n",
    "            title = article[\"MedlineCitation\"][\"Article\"][\"ArticleTitle\"]\n",
    "            abstract_parts = article[\"MedlineCitation\"][\"Article\"].get(\"Abstract\", {}).get(\"AbstractText\", [])\n",
    "            abstract = \" \".join(abstract_parts)\n",
    "            pub_date = article[\"MedlineCitation\"][\"Article\"][\"Journal\"][\"JournalIssue\"][\"PubDate\"]\n",
    "            year = pub_date.get(\"Year\", \"Unknown\")\n",
    "            results.append({\n",
    "                \"title\": title,\n",
    "                \"abstract\": abstract,\n",
    "                \"year\": year\n",
    "            })\n",
    "        except Exception as e:\n",
    "            print(f\"Skipping an article due to missing fields: {e}\")\n",
    "\n",
    "    return results"
   ]
  },
  {
   "cell_type": "code",
   "execution_count": 37,
   "id": "ffd288a5",
   "metadata": {},
   "outputs": [],
   "source": [
    "os.makedirs(\"pubmed_outputs\", exist_ok=True)"
   ]
  },
  {
   "cell_type": "code",
   "execution_count": 38,
   "id": "7cb79265",
   "metadata": {},
   "outputs": [
    {
     "name": "stdout",
     "output_type": "stream",
     "text": [
      "Fetching articles for: \"Anxiety Disorders\"[MeSH] AND \"Dopamine\"[MeSH]\n",
      "Saved 25 articles to Anxiety_Disorders_Dopamine.json\n",
      "Fetching articles for: \"Anxiety Disorders\"[MeSH] AND \"Serotonin\"[MeSH]\n",
      "Saved 25 articles to Anxiety_Disorders_Serotonin.json\n",
      "Fetching articles for: \"Anxiety Disorders\"[MeSH] AND \"Gamma-Aminobutyric Acid\"[MeSH]\n",
      "Saved 25 articles to Anxiety_Disorders_Gamma-Aminobutyric_Acid.json\n",
      "Fetching articles for: \"Anxiety Disorders\"[MeSH] AND \"Norepinephrine\"[MeSH]\n",
      "Saved 25 articles to Anxiety_Disorders_Norepinephrine.json\n",
      "Fetching articles for: \"Anxiety Disorders\"[MeSH] AND \"Glutamic Acid\"[MeSH]\n",
      "Saved 25 articles to Anxiety_Disorders_Glutamic_Acid.json\n",
      "Fetching articles for: \"Anxiety Disorders\"[MeSH] AND \"Acetylcholine\"[MeSH]\n",
      "Saved 25 articles to Anxiety_Disorders_Acetylcholine.json\n",
      "Fetching articles for: \"Anxiety Disorders\"[MeSH] AND \"Endorphins\"[MeSH]\n",
      "Saved 25 articles to Anxiety_Disorders_Endorphins.json\n",
      "Fetching articles for: \"Depressive Disorder\"[MeSH] AND \"Dopamine\"[MeSH]\n",
      "Saved 25 articles to Depressive_Disorder_Dopamine.json\n",
      "Fetching articles for: \"Depressive Disorder\"[MeSH] AND \"Serotonin\"[MeSH]\n",
      "Saved 25 articles to Depressive_Disorder_Serotonin.json\n",
      "Fetching articles for: \"Depressive Disorder\"[MeSH] AND \"Gamma-Aminobutyric Acid\"[MeSH]\n",
      "Saved 25 articles to Depressive_Disorder_Gamma-Aminobutyric_Acid.json\n",
      "Fetching articles for: \"Depressive Disorder\"[MeSH] AND \"Norepinephrine\"[MeSH]\n",
      "Saved 25 articles to Depressive_Disorder_Norepinephrine.json\n",
      "Fetching articles for: \"Depressive Disorder\"[MeSH] AND \"Glutamic Acid\"[MeSH]\n",
      "Saved 25 articles to Depressive_Disorder_Glutamic_Acid.json\n",
      "Fetching articles for: \"Depressive Disorder\"[MeSH] AND \"Acetylcholine\"[MeSH]\n",
      "Saved 25 articles to Depressive_Disorder_Acetylcholine.json\n",
      "Fetching articles for: \"Depressive Disorder\"[MeSH] AND \"Endorphins\"[MeSH]\n",
      "Saved 25 articles to Depressive_Disorder_Endorphins.json\n",
      "Fetching articles for: \"Bipolar Disorder\"[MeSH] AND \"Dopamine\"[MeSH]\n",
      "Saved 25 articles to Bipolar_Disorder_Dopamine.json\n",
      "Fetching articles for: \"Bipolar Disorder\"[MeSH] AND \"Serotonin\"[MeSH]\n",
      "Saved 25 articles to Bipolar_Disorder_Serotonin.json\n",
      "Fetching articles for: \"Bipolar Disorder\"[MeSH] AND \"Gamma-Aminobutyric Acid\"[MeSH]\n",
      "Saved 25 articles to Bipolar_Disorder_Gamma-Aminobutyric_Acid.json\n",
      "Fetching articles for: \"Bipolar Disorder\"[MeSH] AND \"Norepinephrine\"[MeSH]\n",
      "Saved 25 articles to Bipolar_Disorder_Norepinephrine.json\n",
      "Fetching articles for: \"Bipolar Disorder\"[MeSH] AND \"Glutamic Acid\"[MeSH]\n",
      "Saved 25 articles to Bipolar_Disorder_Glutamic_Acid.json\n",
      "Fetching articles for: \"Bipolar Disorder\"[MeSH] AND \"Acetylcholine\"[MeSH]\n",
      "Saved 25 articles to Bipolar_Disorder_Acetylcholine.json\n",
      "Fetching articles for: \"Bipolar Disorder\"[MeSH] AND \"Endorphins\"[MeSH]\n",
      "Saved 25 articles to Bipolar_Disorder_Endorphins.json\n",
      "Fetching articles for: \"Schizophrenia\"[MeSH] AND \"Dopamine\"[MeSH]\n",
      "Saved 25 articles to Schizophrenia_Dopamine.json\n",
      "Fetching articles for: \"Schizophrenia\"[MeSH] AND \"Serotonin\"[MeSH]\n",
      "Saved 25 articles to Schizophrenia_Serotonin.json\n",
      "Fetching articles for: \"Schizophrenia\"[MeSH] AND \"Gamma-Aminobutyric Acid\"[MeSH]\n",
      "Saved 25 articles to Schizophrenia_Gamma-Aminobutyric_Acid.json\n",
      "Fetching articles for: \"Schizophrenia\"[MeSH] AND \"Norepinephrine\"[MeSH]\n",
      "Saved 25 articles to Schizophrenia_Norepinephrine.json\n",
      "Fetching articles for: \"Schizophrenia\"[MeSH] AND \"Glutamic Acid\"[MeSH]\n",
      "Saved 25 articles to Schizophrenia_Glutamic_Acid.json\n",
      "Fetching articles for: \"Schizophrenia\"[MeSH] AND \"Acetylcholine\"[MeSH]\n",
      "Saved 25 articles to Schizophrenia_Acetylcholine.json\n",
      "Fetching articles for: \"Schizophrenia\"[MeSH] AND \"Endorphins\"[MeSH]\n",
      "Saved 25 articles to Schizophrenia_Endorphins.json\n",
      "Fetching articles for: \"Post-Traumatic Stress Disorder\"[MeSH] AND \"Dopamine\"[MeSH]\n",
      "No articles found for: \"Post-Traumatic Stress Disorder\"[MeSH] AND \"Dopamine\"[MeSH]\n",
      "No articles found for: \"Post-Traumatic Stress Disorder\"[MeSH] AND \"Dopamine\"[MeSH]\n",
      "Fetching articles for: \"Post-Traumatic Stress Disorder\"[MeSH] AND \"Serotonin\"[MeSH]\n",
      "No articles found for: \"Post-Traumatic Stress Disorder\"[MeSH] AND \"Serotonin\"[MeSH]\n",
      "No articles found for: \"Post-Traumatic Stress Disorder\"[MeSH] AND \"Serotonin\"[MeSH]\n",
      "Fetching articles for: \"Post-Traumatic Stress Disorder\"[MeSH] AND \"Gamma-Aminobutyric Acid\"[MeSH]\n",
      "No articles found for: \"Post-Traumatic Stress Disorder\"[MeSH] AND \"Gamma-Aminobutyric Acid\"[MeSH]\n",
      "No articles found for: \"Post-Traumatic Stress Disorder\"[MeSH] AND \"Gamma-Aminobutyric Acid\"[MeSH]\n",
      "Fetching articles for: \"Post-Traumatic Stress Disorder\"[MeSH] AND \"Norepinephrine\"[MeSH]\n",
      "No articles found for: \"Post-Traumatic Stress Disorder\"[MeSH] AND \"Norepinephrine\"[MeSH]\n",
      "No articles found for: \"Post-Traumatic Stress Disorder\"[MeSH] AND \"Norepinephrine\"[MeSH]\n",
      "Fetching articles for: \"Post-Traumatic Stress Disorder\"[MeSH] AND \"Glutamic Acid\"[MeSH]\n",
      "No articles found for: \"Post-Traumatic Stress Disorder\"[MeSH] AND \"Glutamic Acid\"[MeSH]\n",
      "No articles found for: \"Post-Traumatic Stress Disorder\"[MeSH] AND \"Glutamic Acid\"[MeSH]\n",
      "Fetching articles for: \"Post-Traumatic Stress Disorder\"[MeSH] AND \"Acetylcholine\"[MeSH]\n",
      "No articles found for: \"Post-Traumatic Stress Disorder\"[MeSH] AND \"Acetylcholine\"[MeSH]\n",
      "No articles found for: \"Post-Traumatic Stress Disorder\"[MeSH] AND \"Acetylcholine\"[MeSH]\n",
      "Fetching articles for: \"Post-Traumatic Stress Disorder\"[MeSH] AND \"Endorphins\"[MeSH]\n",
      "No articles found for: \"Post-Traumatic Stress Disorder\"[MeSH] AND \"Endorphins\"[MeSH]\n",
      "No articles found for: \"Post-Traumatic Stress Disorder\"[MeSH] AND \"Endorphins\"[MeSH]\n",
      "Fetching articles for: \"Obsessive-Compulsive Disorder\"[MeSH] AND \"Dopamine\"[MeSH]\n",
      "Saved 25 articles to Obsessive-Compulsive_Disorder_Dopamine.json\n",
      "Fetching articles for: \"Obsessive-Compulsive Disorder\"[MeSH] AND \"Serotonin\"[MeSH]\n",
      "Saved 25 articles to Obsessive-Compulsive_Disorder_Serotonin.json\n",
      "Fetching articles for: \"Obsessive-Compulsive Disorder\"[MeSH] AND \"Gamma-Aminobutyric Acid\"[MeSH]\n",
      "Saved 25 articles to Obsessive-Compulsive_Disorder_Gamma-Aminobutyric_Acid.json\n",
      "Fetching articles for: \"Obsessive-Compulsive Disorder\"[MeSH] AND \"Norepinephrine\"[MeSH]\n",
      "Saved 25 articles to Obsessive-Compulsive_Disorder_Norepinephrine.json\n",
      "Fetching articles for: \"Obsessive-Compulsive Disorder\"[MeSH] AND \"Glutamic Acid\"[MeSH]\n",
      "Saved 25 articles to Obsessive-Compulsive_Disorder_Glutamic_Acid.json\n",
      "Fetching articles for: \"Obsessive-Compulsive Disorder\"[MeSH] AND \"Acetylcholine\"[MeSH]\n",
      "Saved 5 articles to Obsessive-Compulsive_Disorder_Acetylcholine.json\n",
      "Fetching articles for: \"Obsessive-Compulsive Disorder\"[MeSH] AND \"Endorphins\"[MeSH]\n",
      "Saved 5 articles to Obsessive-Compulsive_Disorder_Endorphins.json\n"
     ]
    }
   ],
   "source": [
    "for disorder in mental_disorders:\n",
    "    for neurotransmitter in neurotransmitters:\n",
    "        mesh_query = f'\"{disorder}\"[MeSH] AND \"{neurotransmitter}\"[MeSH]'\n",
    "        print(f\"Fetching articles for: {mesh_query}\")\n",
    "        articles = fetch_pubmed_json(mesh_query, max_results=25)\n",
    "        \n",
    "        if articles:\n",
    "            file_name = f\"{disorder.replace(' ', '_')}_{neurotransmitter.replace(' ', '_')}.json\"\n",
    "            file_path = os.path.join(\"pubmed_outputs\", file_name)\n",
    "            with open(file_path, 'w') as f:\n",
    "                json.dump(articles, f, indent=4)\n",
    "            print(f\"Saved {len(articles)} articles to {file_name}\")\n",
    "        else:\n",
    "            print(f\"No articles found for: {mesh_query}\")\n",
    "\n",
    "        time.sleep(1) "
   ]
  },
  {
   "cell_type": "markdown",
   "id": "1c96097a",
   "metadata": {},
   "source": [
    "### Experimental section to understand scraping"
   ]
  },
  {
   "cell_type": "code",
   "execution_count": null,
   "id": "f8d8b50d",
   "metadata": {},
   "outputs": [],
   "source": [
    "def search_pubmed(query, max_results=10):\n",
    "    handle = Entrez.esearch(db=\"pubmed\", term=query, retmax=max_results)\n",
    "    record = Entrez.read(handle)\n",
    "    ids = record[\"IdList\"]\n",
    "\n",
    "    if not ids:\n",
    "        print(f\"No articles found for: {query}\")\n",
    "        return []\n",
    "\n",
    "    return (record, ids)"
   ]
  },
  {
   "cell_type": "code",
   "execution_count": 11,
   "id": "e2060317",
   "metadata": {},
   "outputs": [],
   "source": [
    "def fetch_articles(ids):\n",
    "    articles = Entrez.efetch(db=\"pubmed\", id=ids, rettype=\"xml\", retmode=\"text\")\n",
    "    records = Entrez.read(articles)\n",
    "    articles.close()\n",
    "    return records    "
   ]
  },
  {
   "cell_type": "code",
   "execution_count": 6,
   "id": "1d666622",
   "metadata": {},
   "outputs": [],
   "source": [
    "query = '\"Dopamine\"[MeSH] AND \"Anxiety Disorders\"[MeSH]'"
   ]
  },
  {
   "cell_type": "code",
   "execution_count": 7,
   "id": "24b01fc2",
   "metadata": {},
   "outputs": [],
   "source": [
    "record, ids = search_pubmed(query,15)"
   ]
  },
  {
   "cell_type": "code",
   "execution_count": 12,
   "id": "48de471e",
   "metadata": {},
   "outputs": [],
   "source": [
    "fetched_articles = fetch_articles(ids)"
   ]
  },
  {
   "cell_type": "code",
   "execution_count": null,
   "id": "d73af9a8",
   "metadata": {},
   "outputs": [
    {
     "name": "stdout",
     "output_type": "stream",
     "text": [
      "Title: Behavior Changes in Quinpirole Obsessive-Compulsive Disorder Rats Treated with 6-Hydroxydopamine and the Corresponding Dopaminergic Compulsive Loop Mechanism.\n",
      "Abstract: Recent studies suggest that the anterior limb of the internal capsule may be an area of convergence for multiple compulsion loops. In this study, the role of different dopaminergic compulsion loops in the mechanism of obsessive-compulsive disorder (OCD) was investigated by selectively damaging dopaminergic neurons or fibers in the corresponding targets with 6-hydroxydopamine (6-OHDA) and depicting the anatomical map of various compulsion loops located in the anterior limb of the internal capsule.\n",
      "\n",
      "Title: Unveiling serotonergic dysfunction of obsessive-compulsive disorder on prefrontal network dynamics: a computational perspective.\n",
      "Abstract: Serotonin (5-HT) regulates working memory within the prefrontal cortex network, which is crucial for understanding obsessive-compulsive disorder. However, the mechanisms how network dynamics and serotonin interact in obsessive-compulsive disorder remain elusive. Here, we incorporate 5-HT receptors (5-HT1A, 5-HT2A) and dopamine receptors into a multistable prefrontal cortex network model, replicating the experimentally observed inverted U-curve phenomenon. We show how the two 5-HT receptors antagonize neuronal activity and modulate network multistability. Reduced binding of 5-HT1A receptors increases global firing, while reduced binding of 5-HT2A receptors deepens attractors. The obtained results suggest reward-dependent synaptic plasticity mechanisms may attenuate 5-HT related network impairments. Integrating serotonin-mediated dopamine release into circuit, we observe that decreased serotonin concentration triggers the network into a deep attractor state, expanding the domain of attraction of stable nodes with high firing rate, potentially causing aberrant reverse learning. This suggests a hypothesis wherein elevated dopamine concentrations in obsessive-compulsive disorder might result from primary deficits in serotonin levels. Findings of this work underscore the pivotal role of serotonergic dysregulation in modulating synaptic plasticity through dopamine pathways, potentially contributing to learned obsessions. Interestingly, serotonin reuptake inhibitors and antidopaminergic potentiators can counteract the over-stable state of high-firing stable points, providing new insights into obsessive-compulsive disorder treatment.\n",
      "\n",
      "Title: Now it's your turn!: Eye blink rate in a Jenga task modulated by interaction of task wait times, effortful control, and internalizing behaviors.\n",
      "Abstract: Dopamine is a versatile neurotransmitter with implications in many domains, including anxiety and effortful control. Where high levels of effortful control are often regarded as adaptive, other work suggests that high levels of effortful control may be a risk factor for anxiety. Dopamine signaling may be key in understanding these relations. Eye blink rate is a non-invasive proxy metric of midbrain dopamine activity. However, much work with eye blink rate has been constrained to screen-based tasks which lack in ecological validity. We tested whether changes in eye blink rate during a naturalistic effortful control task differ as a function of parent-reported effortful control and internalizing behaviors. Children played a Jenga-like game with an experimenter, but for each trial the experimenter took an increasingly long time to take their turn. Blinks-per-second were computed during each wait period. Multilevel modeling examined the relation between duration of wait period, effortful control, and internalizing behaviors on eye blink rate. We found a significant 3-way interaction between effortful control, internalizing behaviors, and duration of the wait period. Probing this interaction revealed that for children with low reported internalizing behaviors (-1 SD) and high reported effortful control (+1 SD), eye blink rate significantly decreased as they waited longer to take their turn. These findings index task-related changes in midbrain dopamine activity in relation to naturalistic task demands, and that these changes may vary as a function of individual differences in effortful control and internalizing behaviors. We discuss possible top-down mechanisms that may underlie these differences.\n",
      "\n",
      "Title: Anxiety Change After Dopamine Therapy in Parkinson Disease is Independent of Motor Improvement.\n",
      "Abstract: Several anxiety syndromes have been associated with Parkinson disease (PD), but their interactions with dopamine replacement therapy (DRT) and motor function dynamics are not completely understood. We sought to delineate how DRT impacts anxiety phenomenology in PD and whether these changes are dissociable from improved motoric function.\n",
      "\n",
      "Title: Mental stress objective screening for workers using urinary neurotransmitters.\n",
      "Abstract: Almost 10% of the population develop depression or anxiety disorder during their lifetime. Considering that people who are exposed to high stress are more likely to develop mental disorders, it is important to detect and remove mental stress before depression or anxiety disorder develops. We aimed to develop an objective screening test that quantifies mental stress in workers so that they can recognize and remove it before the disorder develops.\n",
      "\n",
      "Title: Probing midbrain dopamine function in pediatric obsessive-compulsive disorder via neuromelanin-sensitive magnetic resonance imaging.\n",
      "Abstract: Obsessive-compulsive disorder (OCD) is an impairing psychiatric condition, which often onsets in childhood. Growing research highlights dopaminergic alterations in adult OCD, yet pediatric studies are limited by methodological constraints. This is the first study to utilize neuromelanin-sensitive MRI as a proxy for dopaminergic function among children with OCD. N = 135 youth (6-14-year-olds) completed high-resolution neuromelanin-sensitive MRI across two sites; n = 64 had an OCD diagnosis. N = 47 children with OCD completed a second scan after cognitive-behavioral therapy. Voxel-wise analyses identified that neuromelanin-MRI signal was higher among children with OCD compared to those without (483 voxels, permutation-corrected p = 0.018). Effects were significant within both the substania nigra pars compacta (p = 0.004, Cohen's d = 0.51) and ventral tegmental area (p = 0.006, d = 0.50). Follow-up analyses indicated that more severe lifetime symptoms (t = -2.72, p = 0.009) and longer illness duration (t = -2.22, p = 0.03) related to lower neuromelanin-MRI signal. Despite significant symptom reduction with therapy (p < 0.001, d = 1.44), neither baseline nor change in neuromelanin-MRI signal associated with symptom improvement. Current results provide the first demonstration of the utility of neuromelanin-MRI in pediatric psychiatry, specifically highlighting in vivo evidence for midbrain dopamine alterations in treatment-seeking youth with OCD. Neuromelanin-MRI likely indexes accumulating alterations over time, herein, implicating dopamine hyperactivity in OCD. Given evidence of increased neuromelanin signal in pediatric OCD but negative association with symptom severity, additional work is needed to parse potential longitudinal or compensatory mechanisms. Future studies should explore the utility of neuromelanin-MRI biomarkers to identify early risk prior to onset, parse OCD subtypes or symptom heterogeneity, and explore prediction of pharmacotherapy response.\n",
      "\n",
      "Title: Gender-Related Differences in the Relationship between Homovanillic Acid in the Cerebrospinal Fluid and Clinical Symptoms in Suicide Attempters.\n",
      "Abstract: Decreased dopaminergic activity - as reflected by lower levels of the major metabolite homovanillic acid (HVA) in cerebrospinal fluid (CSF) - may be involved in the pathophysiology of attempted suicide. An inverse association has also been found between dopaminergic activity and clinical symptoms of depression and anxiety in non-suicidal individuals. The aim of this study was to assess the relationship between CSF-HVA and clinical symptoms associated with an increased risk of suicide in individuals who attempted suicide.\n",
      "\n",
      "Title: 'Anxious fluctuators' a subgroup of Parkinson's disease with high anxiety and problematic on-off fluctuations.\n",
      "Abstract: Anxiety that occurs in association with on-off dopamine medication fluctuations is a major cause of distress, dysfunction, and lower quality of life in people with Parkinson's disease (PD). However, the association between anxiety and on-off fluctuations is poorly understood and it is difficult to predict which patients will suffer from this atypical form of anxiety. To understand whether fluctuating anxiety in PD exists as part of an endophenotype that is associated with other signs or symptoms, we prospectively assessed the change in anxiety and a battery of clinical variables when transitioning from the off-dopamine medication state to the on state in 200 people with PD. We performed latent profile analysis with observed variables as latent profile indicators measuring the on-off-state difference in anxiety, depression, motor function, daily functioning, and the wearing off questionnaire 19 item scale (WOQ-19) in order to model unobserved (i.e., latent) profiles. A two-class model produced the best fit. The majority of participants, 69%, were categorized as having a 'typical on-off response' compared to a second profile constituting 31% of the sample who experienced a worsening in anxiety in the off state that was three times that of other participants. This profile referred to as \"anxious fluctuators\" had a Hamilton Anxiety Rating Scale change between the off and on medication state of 10.22(32.85) compared to 3.27 (7.62), higher depression scores, greater disability and was less likely to improve on select WOQ-19 items when in the on-state. Anxious fluctuators were more likely to be male and have a family history of anxiety disorder. Given the adverse impact of this profile we believe it may be important to distinguish patients with a typical on-off response from those with this more problematic course of fluctuations.\n",
      "\n",
      "Title: Ventral tegmental area integrity measured with high-resolution 7-Tesla MRI relates to motivation across depression and anxiety diagnoses.\n",
      "Abstract: The ventral tegmental area (VTA) is one of the major sources of dopamine in the brain and has been associated with reward prediction, error-based reward learning, volitional drive and anhedonia. However, precise anatomical investigations of the VTA have been prevented by the use of standard-resolution MRI, reliance on subjective manual tracings, and lack of quantitative measures of dopamine-related signal. Here, we combine ultra-high field 400 µm<sup>3</sup> quantitative MRI with dopamine-related signal mapping, and a mixture of machine learning and supervised computational techniques to delineate the VTA in a transdiagnostic sample of subjects with and without depression and anxiety disorders. Subjects also underwent cognitive testing to measure intrinsic and extrinsic motivational tone. Fifty-one subjects were scanned in total, including healthy control (HC) and mood/anxiety (MA) disorder subjects. MA subjects had significantly larger VTA volumes compared to HC but significantly lower signal intensity within VTA compared to HC, indicating reduced structural integrity of the dopaminergic VTA. Interestingly, while VTA integrity did not significantly correlate with self-reported depression or anxiety symptoms, it was correlated with an objective cognitive measure of extrinsic motivation, whereby lower VTA integrity was associated with lower motivation. This is the first study to demonstrate a computational pipeline for detecting and delineating the VTA in human subjects with 400 μm<sup>3</sup> resolution. We highlight the use of objective transdiagnostic measures of cognitive function that link neural integrity to behavior across clinical and non-clinical groups.\n",
      "\n",
      "Title: Midbrain dopamine neurons arbiter OCD-like behavior.\n",
      "Abstract: The neurobiological understanding of obsessive-compulsive disorder (OCD) includes dysregulated frontostriatal circuitry and altered monoamine transmission. Repetitive stereotyped behavior (e.g., grooming), a featured symptom in OCD, has been proposed to be associated with perturbed dopamine (DA) signaling. However, the precise brain circuits participating in DA's control over this behavioral phenotype remain elusive. Here, we identified that DA neurons in substantia nigra pars compacta (SNc) orchestrate ventromedial striatum (VMS) microcircuits as well as lateral orbitofrontal cortex (lOFC) during self-grooming behavior. SNc-VMS and SNc-lOFC dopaminergic projections modulate grooming behaviors and striatal microcircuit function differentially. Specifically, the activity of the SNc-VMS pathway promotes grooming via D1 receptors, whereas the activity of the SNc-lOFC pathway suppresses grooming via D2 receptors. SNc DA neuron activity thus controls the OCD-like behaviors via both striatal and cortical projections as dual gating. These results support both pharmacological and brain-stimulation treatments for OCD.\n",
      "\n",
      "Title: Pharmacological and Physiological Correlates of the Bidirectional Fear Phenotype of the Carioca Rats and Other Bidirectionally Selected Lines.\n",
      "Abstract: The Carioca rat lines originated from the selective bidirectional breeding of mates displaying extreme defense responses to contextual conditioned fear. After three generations, two distinct populations could be distinguished: the Carioca High- and Low-conditioned Freezing rats, CHF, and CLF, respectively. Later studies identified strong anxiety-like behaviors in the CHF line, while indications of impulsivity and hyperactivity were prominent in the CLF animals. The present review details the physiological and pharmacological-related findings obtained from these lines. The results discussed here point towards a dysfunctional fear circuitry in CHF rats, including alterations in key brain structures and the serotoninergic system. Moreover, data from these animals highlight important alterations in the stress-processing machinery and its associated systems, such as energy metabolism and antioxidative defense. Finally, evidence of an alteration in the dopaminergic pathway in CLF rats is also debated. Thus, accumulating data gathered over the years, place the Carioca lines as significant animal models for the study of psychiatric disorders, especially fear-related ones like anxiety.\n",
      "\n",
      "Title: Serotonin and dopamine transporter availability in social anxiety disorder after combined treatment with escitalopram and cognitive-behavioral therapy.\n",
      "Abstract: Selective serotonin reuptake inhibitors (SSRIs) and internet-based cognitive behavioral therapy (ICBT) are recommended treatments of social anxiety disorder (SAD), and often combined, but their effects on monoaminergic signaling are not well understood. In this multi-tracer positron emission tomography (PET) study, 24 patients with SAD were randomized to treatment with escitalopram+ICBT or placebo+ICBT under double-blind conditions. Before and after 9 weeks of treatment, patients were examined with positron emission tomography and the radioligands [<sup>11</sup>C]DASB and [<sup>11</sup>C]PE2I, probing the serotonin (SERT) and dopamine (DAT) transporter proteins respectively. Both treatment combinations resulted in significant improvement as measured by the Liebowitz Social Anxiety Scale (LSAS). At baseline, SERT-DAT co-expression was high and, in the putamen and thalamus, co-expression showed positive associations with symptom severity. SERT-DAT co-expression was also predictive of treatment success, but predictor-outcome associations differed in direction between the treatments. After treatment, average SERT occupancy in the SSRI + ICBT group was >80%, with positive associations between symptom improvement and occupancy in the nucleus accumbens, putamen and anterior cingulate cortex. Following placebo+ICBT, SERT binding increased in the raphe nuclei. DAT binding increased in both groups in limbic and striatal areas, but relations with symptom improvement differed, being negative for SSRI + ICBT and positive for placebo + ICBT. Thus, serotonin-dopamine transporter co-expression exerts influence on symptom severity and remission rate in the treatment of social anxiety disorder. However, the monoamine transporters are modulated in dissimilar ways when cognitive-behavioral treatment is given concomitantly with either SSRI-medication or pill placebo.\n",
      "\n",
      "Title: Case Report: Possible autoimmune obsessive-compulsive disorder with postpartum onset.\n",
      "Abstract: Autoimmune obsessive-compulsive disorder (OCD) is rare. The case presented here is that of a female patient in her mid-thirties who developed postpartum OCD. Magnetic resonance imaging showed multiple juxtacortical hyperintensities that may have been post-inflammatory in origin. In tissue-based assays using mouse brain slices, the patient's cerebrospinal fluid (CSF) showed novel anti-nucleoli autoantibodies in cerebellar Purkinje cells and cortical neurons. The CSF dopamine and glutamate concentrations were dysregulated. The clinical course and diagnostic findings were compatible with possible autoimmune OCD with postpartum onset.\n",
      "\n",
      "Title: Effects of early life stress during stress hyporesponsive period (SHRP) on anxiety and curiosity in adolescent rats.\n",
      "Abstract: Repeated exposure to adverse experiences in early life, termed Early Life Stress (ELS), can increase anxiety disorders later in life. Anxiety is directly associated with curiosity, a form of intrinsic drive state associated with increased novelty-seeking behaviour and risk taking for challenging opportunities and could probably modulate learning and memory. In humans, elevated curiosity during adolescence tends to elicit increased exploration, novelty seeking, high risk-taking behaviour and heightened emotionality. Such behaviours are beneficial in maintaining social skills and cognitive functions later in life. We investigated whether ELS-induced anxiety impacts curiosity-like behaviour at adolescence in an animal model. ELS was induced by subjecting Sprague Dawley rat pups to maternal separation and isolation (MS) stress during the stress hyporesponsive period (SHRP) from post-natal days (PND) 4-PND 14. This rat model was tested for anxiety, spontaneous exploratory behaviour and curiosity-like behaviour in a custom-designed arena during adolescence (PND 30-45). ELS-induced changes in the stress were confirmed by corticosterone, while, basal dopamine level was estimated to understand the neurochemical basis of MS stress-induced changes in curiosity. We observed an increase in the levels of anxiety and intrinsic drive state such as curiosity-like behaviour, which was associated with elevated plasma corticosterone and dopamine in MS animals during adolescence suggesting the impact of ELS during SHRP on adolescent behaviour.\n",
      "\n",
      "Title: Developmental impact of glutamate transporter overexpression on dopaminergic neuron activity and stereotypic behavior.\n",
      "Abstract: Obsessive-compulsive disorder (OCD) is a disabling condition that often begins in childhood. Genetic studies in OCD have pointed to SLC1A1, which encodes the neuronal glutamate transporter EAAT3, with evidence suggesting that increased expression contributes to risk. In mice, midbrain Slc1a1 expression supports repetitive behavior in response to dopaminergic agonists, aligning with neuroimaging and pharmacologic challenge studies that have implicated the dopaminergic system in OCD. These findings suggest that Slc1a1 may contribute to compulsive behavior through altered dopaminergic transmission; however, this theory has not been mechanistically tested. To examine the developmental impact of Slc1a1 overexpression on compulsive-like behaviors, we, therefore, generated a novel mouse model to perform targeted, reversible overexpression of Slc1a1 in dopaminergic neurons. Mice with life-long overexpression of Slc1a1 showed a significant increase in amphetamine (AMPH)-induced stereotypy and hyperlocomotion. Single-unit recordings demonstrated that Slc1a1 overexpression was associated with increased firing of dopaminergic neurons. Furthermore, dLight1.1 fiber photometry showed that these behavioral abnormalities were associated with increased dorsal striatum dopamine release. In contrast, no impact of overexpression was observed on anxiety-like behaviors or SKF-38393-induced grooming. Importantly, overexpression solely in adulthood failed to recapitulate these behavioral phenotypes, suggesting that overexpression during development is necessary to generate AMPH-induced phenotypes. However, doxycycline-induced reversal of Slc1a1/EAAT3 overexpression in adulthood normalized both the increased dopaminergic firing and AMPH-induced responses. These data indicate that the pathologic effects of Slc1a1/EAAT3 overexpression on dopaminergic neurotransmission and AMPH-induced stereotyped behavior are developmentally mediated, and support normalization of EAAT3 activity as a potential treatment target for basal ganglia-mediated repetitive behaviors.\n",
      "\n"
     ]
    }
   ],
   "source": [
    "for article in fetched_articles['PubmedArticle']:\n",
    "    title = article['MedlineCitation']['Article']['ArticleTitle']\n",
    "    abstract = article['MedlineCitation']['Article'].get('Abstract', {}).get('AbstractText', ['No abstract available'])[0]\n",
    "    print(f\"Title: {title}\")\n",
    "    print(f\"Abstract: {abstract}\\n\")\n",
    "    time.sleep(1)  # Respect NCBI's rate limits"
   ]
  },
  {
   "cell_type": "markdown",
   "id": "5fbb7790",
   "metadata": {},
   "source": []
  }
 ],
 "metadata": {
  "kernelspec": {
   "display_name": "RAG",
   "language": "python",
   "name": "python3"
  },
  "language_info": {
   "codemirror_mode": {
    "name": "ipython",
    "version": 3
   },
   "file_extension": ".py",
   "mimetype": "text/x-python",
   "name": "python",
   "nbconvert_exporter": "python",
   "pygments_lexer": "ipython3",
   "version": "3.13.2"
  }
 },
 "nbformat": 4,
 "nbformat_minor": 5
}
