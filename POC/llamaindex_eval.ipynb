{
 "cells": [
  {
   "cell_type": "code",
   "execution_count": 19,
   "id": "48b62b91",
   "metadata": {},
   "outputs": [],
   "source": [
    "import pandas as pd\n",
    "from llama_index.core import Document, SimpleDirectoryReader, VectorStoreIndex, StorageContext\n",
    "from llama_index.core.memory import ChatMemoryBuffer\n",
    "from llama_index.core.settings import Settings\n",
    "from llama_index.core.chat_engine import CondenseQuestionChatEngine\n",
    "from llama_index.core.node_parser import SentenceSplitter\n",
    "from llama_index.vector_stores.faiss import FaissVectorStore\n",
    "from llama_index.llms.llama_cpp import LlamaCPP\n",
    "from llama_cpp import Llama\n",
    "from sentence_transformers import SentenceTransformer\n",
    "from llama_index.embeddings.huggingface import HuggingFaceEmbedding    \n",
    "import faiss\n",
    "import os\n",
    "import json\n",
    "import re\n",
    "from Bio import Entrez\n",
    "import time\n",
    "import xmltodict\n",
    "from pathlib import Path"
   ]
  },
  {
   "cell_type": "code",
   "execution_count": 20,
   "id": "80688f2e",
   "metadata": {},
   "outputs": [],
   "source": [
    "training_dataset_path = r\"E:\\RAG_Models\\BioASQ-training13b\\training13b.json\"\n",
    "abstract_cache = Path(r\".\\Abstracts\")\n",
    "out_csv = \"bioasq_rag_predictions.csv\"\n",
    "email = \"an80@illinois.edu\""
   ]
  },
  {
   "cell_type": "code",
   "execution_count": 21,
   "id": "719b872b",
   "metadata": {},
   "outputs": [],
   "source": [
    "abstract_cache.mkdir(exist_ok=True)"
   ]
  },
  {
   "cell_type": "code",
   "execution_count": 14,
   "id": "f5f96293",
   "metadata": {},
   "outputs": [],
   "source": [
    "Entrez.email = email"
   ]
  },
  {
   "cell_type": "code",
   "execution_count": 6,
   "id": "f29cc6f7",
   "metadata": {},
   "outputs": [],
   "source": [
    "with open(training_dataset_path,\"r\") as file:\n",
    "    json_data = json.load(file)"
   ]
  },
  {
   "cell_type": "code",
   "execution_count": 7,
   "id": "ca32171d",
   "metadata": {},
   "outputs": [],
   "source": [
    "document_urls = []\n",
    "questions = []\n",
    "ground_truth = []\n",
    "for data in json_data['questions'][:100]:\n",
    "   document_urls.extend(data.get('documents'))\n",
    "   questions.extend(data.get(\"body\"))\n",
    "   ground_truth.extend(data.get(\"ideal_answer\"))\n"
   ]
  },
  {
   "cell_type": "code",
   "execution_count": 9,
   "id": "566928a7",
   "metadata": {},
   "outputs": [
    {
     "name": "stdout",
     "output_type": "stream",
     "text": [
      "Checking for duplicate documents. Original number of documents: 1142\n",
      "Number of documents after filtering: 1136\n"
     ]
    }
   ],
   "source": [
    "print(f'Checking for duplicate documents. Original number of documents: {len(document_urls)}')\n",
    "document_urls = list(set(document_urls))\n",
    "print(f'Number of documents after filtering: {len(document_urls)}')"
   ]
  },
  {
   "cell_type": "code",
   "execution_count": 10,
   "id": "ca0ef86c",
   "metadata": {},
   "outputs": [],
   "source": [
    "PMID_RE = re.compile(r\"/pubmed/(\\d+)\")"
   ]
  },
  {
   "cell_type": "code",
   "execution_count": 11,
   "id": "22200e42",
   "metadata": {},
   "outputs": [],
   "source": [
    "def pmid_from_url(url: str) -> str:\n",
    "    m = PMID_RE.search(url)\n",
    "    return m.group(1) if m else None"
   ]
  },
  {
   "cell_type": "code",
   "execution_count": 12,
   "id": "e3e926e4",
   "metadata": {},
   "outputs": [],
   "source": [
    "pmids = [pmid_from_url(doc) for doc in document_urls]"
   ]
  },
  {
   "cell_type": "code",
   "execution_count": 23,
   "id": "d1c50dab",
   "metadata": {},
   "outputs": [],
   "source": [
    "def batch_fetch_pmids(pmids, batch = 200):\n",
    "    \"\"\"Return {pmid: {'title','abstract','year'}}; caches and skips empty abstracts.\"\"\"\n",
    "    out = {}\n",
    "    for i in range(0, len(pmids), batch):\n",
    "        chunk = pmids[i:i + batch]\n",
    "        need = [p for p in chunk if not (abstract_cache / f\"{p}.json\").exists()]\n",
    "        if need:\n",
    "            raw_xml = Entrez.efetch(\n",
    "                db=\"pubmed\",\n",
    "                id=\",\".join(need),\n",
    "                rettype=\"abstract\",\n",
    "                retmode=\"xml\"\n",
    "            ).read()\n",
    "            xml = xmltodict.parse(raw_xml)\n",
    "            for art in xml[\"PubmedArticleSet\"][\"PubmedArticle\"]:\n",
    "                pmid = art[\"MedlineCitation\"][\"PMID\"][\"#text\"]\n",
    "                art_info = art[\"MedlineCitation\"][\"Article\"]\n",
    "                title = art_info.get(\"ArticleTitle\", \"\")\n",
    "\n",
    "                # ---- robust abstract extraction ----\n",
    "                abs_raw = art_info.get(\"Abstract\", {}).get(\"AbstractText\", [])\n",
    "                if isinstance(abs_raw, list):\n",
    "                    parts = [x.get(\"#text\", \"\") if isinstance(x, dict) else str(x) for x in abs_raw]\n",
    "                    abstract = \" \".join(parts).strip()\n",
    "                else:\n",
    "                    abstract = str(abs_raw).strip()\n",
    "\n",
    "                if not abstract:   # skip if empty\n",
    "                    continue\n",
    "\n",
    "                year = art_info[\"Journal\"][\"JournalIssue\"][\"PubDate\"].get(\"Year\", \"Unknown\")\n",
    "\n",
    "                meta = {\"title\": title, \"abstract\": abstract, \"year\": year}\n",
    "                (abstract_cache / f\"{pmid}.json\").write_text(json.dumps(meta))\n",
    "\n",
    "        # load all cached (existing + newly saved)\n",
    "        for pmid in chunk:\n",
    "            fp = abstract_cache / f\"{pmid}.json\"\n",
    "            if fp.exists():\n",
    "                meta = json.loads(fp.read_text())\n",
    "                if meta.get(\"abstract\", \"\").strip():\n",
    "                    out[pmid] = meta\n",
    "        time.sleep(0.4)  # politeness\n",
    "    return out"
   ]
  },
  {
   "cell_type": "code",
   "execution_count": 24,
   "id": "a4552b4e",
   "metadata": {},
   "outputs": [],
   "source": [
    "data_map = batch_fetch_pmids(pmids)"
   ]
  }
 ],
 "metadata": {
  "kernelspec": {
   "display_name": "RAG",
   "language": "python",
   "name": "python3"
  },
  "language_info": {
   "codemirror_mode": {
    "name": "ipython",
    "version": 3
   },
   "file_extension": ".py",
   "mimetype": "text/x-python",
   "name": "python",
   "nbconvert_exporter": "python",
   "pygments_lexer": "ipython3",
   "version": "3.13.2"
  }
 },
 "nbformat": 4,
 "nbformat_minor": 5
}
